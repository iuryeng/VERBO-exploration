{
  "nbformat": 4,
  "nbformat_minor": 0,
  "metadata": {
    "colab": {
      "name": "input-audio-in-model-cnn.ipynb",
      "provenance": []
    },
    "kernelspec": {
      "name": "python3",
      "display_name": "Python 3"
    },
    "language_info": {
      "name": "python"
    }
  },
  "cells": [
    {
      "cell_type": "code",
      "metadata": {
        "id": "_mgqO2X3l0On"
      },
      "source": [
        "import soundfile as sf \n",
        "import keras\n",
        "import numpy as np\n",
        "import matplotlib.pyplot as plt\n",
        "import tensorflow as tf\n",
        "from keras.preprocessing import sequence\n",
        "from keras.models import Sequential\n",
        "from keras.layers import Dense, Embedding\n",
        "from keras.layers import Input, Flatten, Dropout, Activation\n",
        "from keras.layers import Conv1D, MaxPooling1D\n",
        "from keras.models import Model\n",
        "from keras.callbacks import ModelCheckpoint\n",
        "from google.colab import drive\n",
        "import librosa"
      ],
      "execution_count": 13,
      "outputs": []
    },
    {
      "cell_type": "code",
      "metadata": {
        "colab": {
          "base_uri": "https://localhost:8080/"
        },
        "id": "ThfIy3ioPq9g",
        "outputId": "7a946637-a8e4-4ea4-87aa-219274675f24"
      },
      "source": [
        "drive.mount(\"/content/drive\")"
      ],
      "execution_count": 7,
      "outputs": [
        {
          "output_type": "stream",
          "text": [
            "Mounted at /content/drive\n"
          ],
          "name": "stdout"
        }
      ]
    },
    {
      "cell_type": "code",
      "metadata": {
        "id": "Zr6BgHrtnbUq"
      },
      "source": [
        "\n",
        "def audio_features_MFCC(file_title):\n",
        "    with sf.SoundFile(file_title) as audio_recording:\n",
        "        audio = audio_recording.read(dtype=\"float32\")\n",
        "        sample_rate = audio_recording.samplerate \n",
        "        result=np.array([])       \n",
        "        mfccs=np.mean(librosa.feature.mfcc(y=audio, sr=sample_rate, n_mfcc=40).T, axis=0)\n",
        "        result=np.hstack((result, mfccs))    \n",
        "    return result"
      ],
      "execution_count": 9,
      "outputs": []
    },
    {
      "cell_type": "code",
      "metadata": {
        "colab": {
          "base_uri": "https://localhost:8080/"
        },
        "id": "KsGtxPodlqyt",
        "outputId": "91151a91-c325-447c-943c-bb38bccb8db5"
      },
      "source": [
        "model_1=keras.models.load_model('/content/drive/MyDrive/modelos_ml/model_copia_mfccs_cnn.h5')\n",
        "model_1.summary() \n",
        "model_2=keras.models.load_model('/content/drive/MyDrive/modelos_ml/melhor_cnn_mfcc_2.h5')\n",
        "model_1.summary() \n"
      ],
      "execution_count": 31,
      "outputs": [
        {
          "output_type": "stream",
          "text": [
            "Model: \"sequential_8\"\n",
            "_________________________________________________________________\n",
            "Layer (type)                 Output Shape              Param #   \n",
            "=================================================================\n",
            "conv1d_24 (Conv1D)           (None, 40, 64)            384       \n",
            "_________________________________________________________________\n",
            "activation_32 (Activation)   (None, 40, 64)            0         \n",
            "_________________________________________________________________\n",
            "dropout_24 (Dropout)         (None, 40, 64)            0         \n",
            "_________________________________________________________________\n",
            "max_pooling1d_16 (MaxPooling (None, 10, 64)            0         \n",
            "_________________________________________________________________\n",
            "conv1d_25 (Conv1D)           (None, 10, 128)           41088     \n",
            "_________________________________________________________________\n",
            "activation_33 (Activation)   (None, 10, 128)           0         \n",
            "_________________________________________________________________\n",
            "dropout_25 (Dropout)         (None, 10, 128)           0         \n",
            "_________________________________________________________________\n",
            "max_pooling1d_17 (MaxPooling (None, 2, 128)            0         \n",
            "_________________________________________________________________\n",
            "conv1d_26 (Conv1D)           (None, 2, 256)            164096    \n",
            "_________________________________________________________________\n",
            "activation_34 (Activation)   (None, 2, 256)            0         \n",
            "_________________________________________________________________\n",
            "dropout_26 (Dropout)         (None, 2, 256)            0         \n",
            "_________________________________________________________________\n",
            "flatten_8 (Flatten)          (None, 512)               0         \n",
            "_________________________________________________________________\n",
            "dense_8 (Dense)              (None, 8)                 4104      \n",
            "_________________________________________________________________\n",
            "activation_35 (Activation)   (None, 8)                 0         \n",
            "=================================================================\n",
            "Total params: 209,672\n",
            "Trainable params: 209,672\n",
            "Non-trainable params: 0\n",
            "_________________________________________________________________\n",
            "Model: \"sequential_8\"\n",
            "_________________________________________________________________\n",
            "Layer (type)                 Output Shape              Param #   \n",
            "=================================================================\n",
            "conv1d_24 (Conv1D)           (None, 40, 64)            384       \n",
            "_________________________________________________________________\n",
            "activation_32 (Activation)   (None, 40, 64)            0         \n",
            "_________________________________________________________________\n",
            "dropout_24 (Dropout)         (None, 40, 64)            0         \n",
            "_________________________________________________________________\n",
            "max_pooling1d_16 (MaxPooling (None, 10, 64)            0         \n",
            "_________________________________________________________________\n",
            "conv1d_25 (Conv1D)           (None, 10, 128)           41088     \n",
            "_________________________________________________________________\n",
            "activation_33 (Activation)   (None, 10, 128)           0         \n",
            "_________________________________________________________________\n",
            "dropout_25 (Dropout)         (None, 10, 128)           0         \n",
            "_________________________________________________________________\n",
            "max_pooling1d_17 (MaxPooling (None, 2, 128)            0         \n",
            "_________________________________________________________________\n",
            "conv1d_26 (Conv1D)           (None, 2, 256)            164096    \n",
            "_________________________________________________________________\n",
            "activation_34 (Activation)   (None, 2, 256)            0         \n",
            "_________________________________________________________________\n",
            "dropout_26 (Dropout)         (None, 2, 256)            0         \n",
            "_________________________________________________________________\n",
            "flatten_8 (Flatten)          (None, 512)               0         \n",
            "_________________________________________________________________\n",
            "dense_8 (Dense)              (None, 8)                 4104      \n",
            "_________________________________________________________________\n",
            "activation_35 (Activation)   (None, 8)                 0         \n",
            "=================================================================\n",
            "Total params: 209,672\n",
            "Trainable params: 209,672\n",
            "Non-trainable params: 0\n",
            "_________________________________________________________________\n"
          ],
          "name": "stdout"
        }
      ]
    },
    {
      "cell_type": "code",
      "metadata": {
        "id": "5e5ljlDGniP2"
      },
      "source": [
        "path_audio_1 = '/content/drive/MyDrive/VERBO_OK/f3/neu-f3-ns4.wav'#neutro\n",
        "path_audio_2 = '/content/drive/MyDrive/audio_teste/tri-m6-q1.wav'# tristeza\n",
        "path_audio_3 = '/content/drive/MyDrive/VERBO_OK/f3/ale-f3-s2.wav'# alegria\n",
        "#path_audio_4 = '/content/drive/MyDrive/audio_teste/caminho_nuvens_ajuste.wav'\n",
        "path_audio_5 ='/content/drive/MyDrive/VERBO_OK/f3/des-f3-l1.wav'# desgosto\n",
        "audio_1 = audio_features_MFCC(path_audio_1)\n",
        "audio_1  = audio_1.reshape(1,-1,1)\n",
        "audio_2 = audio_features_MFCC(path_audio_2)\n",
        "audio_2  = audio_2.reshape(1,-1,1)\n",
        "audio_3 = audio_features_MFCC(path_audio_3)\n",
        "audio_3  = audio_3.reshape(1,-1,1)\n",
        "audio_4 = audio_features_MFCC(path_audio_4)\n",
        "audio_4  = audio_4.reshape(1,-1,1)\n",
        "audio_5 = audio_features_MFCC(path_audio_5)\n",
        "audio_5  = audio_5.reshape(1,-1,1)"
      ],
      "execution_count": 39,
      "outputs": []
    },
    {
      "cell_type": "code",
      "metadata": {
        "colab": {
          "base_uri": "https://localhost:8080/"
        },
        "id": "mEDPRTBXlDvU",
        "outputId": "d18ca0f1-75c9-44b2-aabd-d3becea224e2"
      },
      "source": [
        "predictions = model_2.predict(audio_3)\n",
        "lista_sentimento = ['neutro','desgosto','alegria','tristeza','raiva','medo','surpresa']\n",
        "maior_taxa = np.argmax(predictions)\n",
        "taxa = predictions[0][maior_taxa]\n",
        "print(f\"previsão de ser {lista_sentimento[maior_taxa]} com {taxa*100} % de acerto\")\n"
      ],
      "execution_count": 56,
      "outputs": [
        {
          "output_type": "stream",
          "text": [
            "previsão de ser alegria com 44.911712408065796 % de acerto\n"
          ],
          "name": "stdout"
        }
      ]
    },
    {
      "cell_type": "code",
      "metadata": {
        "colab": {
          "base_uri": "https://localhost:8080/"
        },
        "id": "3mgq3zYErYZB",
        "outputId": "5764f29c-e848-472f-ed61-7dad889130d1"
      },
      "source": [
        "predictions = model_1.predict(audio_3)\n",
        "lista_sentimento = ['neutro','desgosto','alegria','tristeza','raiva','medo','surpresa']\n",
        "maior_taxa = np.argmax(predictions)\n",
        "taxa = predictions[0][maior_taxa]\n",
        "print(f\"previsão de ser {lista_sentimento[maior_taxa]} com {taxa*100} % de acerto\")"
      ],
      "execution_count": 55,
      "outputs": [
        {
          "output_type": "stream",
          "text": [
            "previsão de ser raiva com 44.20619308948517 % de acerto\n"
          ],
          "name": "stdout"
        }
      ]
    },
    {
      "cell_type": "code",
      "metadata": {
        "id": "4Vogip7PrYtg"
      },
      "source": [
        ""
      ],
      "execution_count": null,
      "outputs": []
    },
    {
      "cell_type": "code",
      "metadata": {
        "id": "HoCsF7wfrYur"
      },
      "source": [
        ""
      ],
      "execution_count": null,
      "outputs": []
    }
  ]
}