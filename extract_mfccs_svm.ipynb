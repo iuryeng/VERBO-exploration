{
  "nbformat": 4,
  "nbformat_minor": 0,
  "metadata": {
    "colab": {
      "name": "extract-mfccs-svm.ipynb",
      "provenance": []
    },
    "kernelspec": {
      "name": "python3",
      "display_name": "Python 3"
    },
    "language_info": {
      "name": "python"
    }
  },
  "cells": [
    {
      "cell_type": "markdown",
      "metadata": {
        "id": "qedLkiM79n09"
      },
      "source": [
        "Extract Features MFCCS"
      ]
    },
    {
      "cell_type": "code",
      "metadata": {
        "id": "AOUx9bno3svY"
      },
      "source": [
        "import os\n",
        "import pandas as pd\n",
        "import soundfile as sf \n",
        "import numpy as np\n",
        "import librosa\n",
        "from sklearn.model_selection import train_test_split\n",
        "from sklearn.neural_network import MLPClassifier \n",
        "from sklearn.metrics import accuracy_score\n",
        "from google.colab import drive"
      ],
      "execution_count": 48,
      "outputs": []
    },
    {
      "cell_type": "code",
      "metadata": {
        "id": "kIr_7XERH_Lv",
        "colab": {
          "base_uri": "https://localhost:8080/"
        },
        "outputId": "6059495a-d35d-4a08-cb14-08734c5005fc"
      },
      "source": [
        "# monte o drive para acessar os dados do VERBO \n",
        "drive.mount(\"/content/drive\")"
      ],
      "execution_count": 1,
      "outputs": [
        {
          "output_type": "stream",
          "text": [
            "Mounted at /content/drive\n"
          ],
          "name": "stdout"
        }
      ]
    },
    {
      "cell_type": "code",
      "metadata": {
        "colab": {
          "base_uri": "https://localhost:8080/",
          "height": 35
        },
        "id": "w0jHpe6ix0gn",
        "outputId": "d5ad375c-8240-4a6d-bc57-3cdcd287406e"
      },
      "source": [
        "VERBO = '/content/drive/MyDrive/VERBO_OK/'\n",
        "dir_list = os.listdir(VERBO)\n",
        "dir_list.pop(3)"
      ],
      "execution_count": 5,
      "outputs": [
        {
          "output_type": "execute_result",
          "data": {
            "application/vnd.google.colaboratory.intrinsic+json": {
              "type": "string"
            },
            "text/plain": [
              "'features'"
            ]
          },
          "metadata": {
            "tags": []
          },
          "execution_count": 5
        }
      ]
    },
    {
      "cell_type": "code",
      "metadata": {
        "id": "2o_VIQcqyPGg"
      },
      "source": [
        ""
      ],
      "execution_count": null,
      "outputs": []
    },
    {
      "cell_type": "code",
      "metadata": {
        "colab": {
          "base_uri": "https://localhost:8080/",
          "height": 202
        },
        "id": "XAXoEwfe4bbM",
        "outputId": "9f9305cc-56d6-461c-c7d7-9c3ff764bd4f"
      },
      "source": [
        "emotion = []\n",
        "gender = []\n",
        "path = []\n",
        "for i in dir_list:\n",
        "    fname = os.listdir(VERBO + i)\n",
        "    for f in fname:\n",
        "        part = f.split('.')[0].split('-')\n",
        "        emotion.append(part[0])\n",
        "        temp = part[1]\n",
        "        if temp == \"f1\" or temp =='f2' or temp == 'f3' or temp == 'f4' or temp == 'f5' or temp == 'f6':\n",
        "            temp = \"feminino\"\n",
        "        else:\n",
        "            temp = \"masculino\"\n",
        "        gender.append(temp)\n",
        "        path.append(VERBO + i + '/' + f)\n",
        "\n",
        "        \n",
        "VERBO_df = pd.DataFrame(emotion)\n",
        "VERBO_df = VERBO_df.replace({'neu':'neutro', 'des':'desgosto', 'ale':'alegre', 'tri':'triste', 'rai':'raiva', 'med':'medo', 'sur':'surpresa'})\n",
        "VERBO_df = pd.concat([pd.DataFrame(gender),VERBO_df],axis=1)\n",
        "VERBO_df.columns = ['gender','emotion']\n",
        "VERBO_df['labels'] = VERBO_df.gender + '_' + VERBO_df.emotion\n",
        "VERBO_df['source'] = 'VERBO'  \n",
        "VERBO_df = pd.concat([VERBO_df,pd.DataFrame(path, columns = ['path'])],axis=1)\n",
        "#VERBO_df = VERBO_df.drop(['gender', 'emotion'], axis=1)\n",
        "#VERBO_df.labels.value_counts()\n",
        "VERBO_df.head(5)"
      ],
      "execution_count": 7,
      "outputs": [
        {
          "output_type": "execute_result",
          "data": {
            "text/html": [
              "<div>\n",
              "<style scoped>\n",
              "    .dataframe tbody tr th:only-of-type {\n",
              "        vertical-align: middle;\n",
              "    }\n",
              "\n",
              "    .dataframe tbody tr th {\n",
              "        vertical-align: top;\n",
              "    }\n",
              "\n",
              "    .dataframe thead th {\n",
              "        text-align: right;\n",
              "    }\n",
              "</style>\n",
              "<table border=\"1\" class=\"dataframe\">\n",
              "  <thead>\n",
              "    <tr style=\"text-align: right;\">\n",
              "      <th></th>\n",
              "      <th>gender</th>\n",
              "      <th>emotion</th>\n",
              "      <th>labels</th>\n",
              "      <th>source</th>\n",
              "      <th>path</th>\n",
              "    </tr>\n",
              "  </thead>\n",
              "  <tbody>\n",
              "    <tr>\n",
              "      <th>0</th>\n",
              "      <td>feminino</td>\n",
              "      <td>desgosto</td>\n",
              "      <td>feminino_desgosto</td>\n",
              "      <td>VERBO</td>\n",
              "      <td>/content/drive/MyDrive/VERBO_OK/f3/des-f3-l1.wav</td>\n",
              "    </tr>\n",
              "    <tr>\n",
              "      <th>1</th>\n",
              "      <td>feminino</td>\n",
              "      <td>medo</td>\n",
              "      <td>feminino_medo</td>\n",
              "      <td>VERBO</td>\n",
              "      <td>/content/drive/MyDrive/VERBO_OK/f3/med-f3-l1.wav</td>\n",
              "    </tr>\n",
              "    <tr>\n",
              "      <th>2</th>\n",
              "      <td>feminino</td>\n",
              "      <td>neutro</td>\n",
              "      <td>feminino_neutro</td>\n",
              "      <td>VERBO</td>\n",
              "      <td>/content/drive/MyDrive/VERBO_OK/f3/neu-f3-ns4.wav</td>\n",
              "    </tr>\n",
              "    <tr>\n",
              "      <th>3</th>\n",
              "      <td>feminino</td>\n",
              "      <td>alegre</td>\n",
              "      <td>feminino_alegre</td>\n",
              "      <td>VERBO</td>\n",
              "      <td>/content/drive/MyDrive/VERBO_OK/f3/ale-f3-ns2.wav</td>\n",
              "    </tr>\n",
              "    <tr>\n",
              "      <th>4</th>\n",
              "      <td>feminino</td>\n",
              "      <td>alegre</td>\n",
              "      <td>feminino_alegre</td>\n",
              "      <td>VERBO</td>\n",
              "      <td>/content/drive/MyDrive/VERBO_OK/f3/ale-f3-ns1.wav</td>\n",
              "    </tr>\n",
              "  </tbody>\n",
              "</table>\n",
              "</div>"
            ],
            "text/plain": [
              "     gender   emotion  ... source                                               path\n",
              "0  feminino  desgosto  ...  VERBO   /content/drive/MyDrive/VERBO_OK/f3/des-f3-l1.wav\n",
              "1  feminino      medo  ...  VERBO   /content/drive/MyDrive/VERBO_OK/f3/med-f3-l1.wav\n",
              "2  feminino    neutro  ...  VERBO  /content/drive/MyDrive/VERBO_OK/f3/neu-f3-ns4.wav\n",
              "3  feminino    alegre  ...  VERBO  /content/drive/MyDrive/VERBO_OK/f3/ale-f3-ns2.wav\n",
              "4  feminino    alegre  ...  VERBO  /content/drive/MyDrive/VERBO_OK/f3/ale-f3-ns1.wav\n",
              "\n",
              "[5 rows x 5 columns]"
            ]
          },
          "metadata": {
            "tags": []
          },
          "execution_count": 7
        }
      ]
    },
    {
      "cell_type": "code",
      "metadata": {
        "id": "54JK9zpWxzXU"
      },
      "source": [
        "def audio_features_MFCC(file_title):\n",
        "    with sf.SoundFile(file_title) as audio_recording:\n",
        "        audio = audio_recording.read(dtype=\"float32\")\n",
        "        sample_rate = audio_recording.samplerate \n",
        "        result=np.array([])       \n",
        "        mfccs=np.mean(librosa.feature.mfcc(y=audio, sr=sample_rate, n_mfcc=40).T, axis=0)\n",
        "        result=np.hstack((result, mfccs))    \n",
        "    return result"
      ],
      "execution_count": 63,
      "outputs": []
    },
    {
      "cell_type": "code",
      "metadata": {
        "id": "UT9cG-d6yuBc"
      },
      "source": [
        "def loading_audio_data():\n",
        "    x = []\n",
        "    y = []\n",
        "    for file in VERBO_df['path']:        \n",
        "        emotion = file.split('/')[6].split('-')[0]             \n",
        "        feature = audio_features_MFCC(str(file))\n",
        "        \n",
        "        x.append(feature)   \n",
        "        y.append(emotion)\n",
        "\n",
        "    return {\"X\":x,\"y\":y}\n",
        "    "
      ],
      "execution_count": 71,
      "outputs": []
    },
    {
      "cell_type": "code",
      "metadata": {
        "colab": {
          "base_uri": "https://localhost:8080/"
        },
        "id": "-vGpl60s5TiN",
        "outputId": "2639841f-1a65-4923-d1c2-b81bd910dc78"
      },
      "source": [
        "import time\n",
        "start_time = time.time()\n",
        "\n",
        "Trial_dict = loading_audio_data()\n",
        "\n",
        "print(\"--- Data loaded. Loading time: %s seconds ---\" % (time.time() - start_time))"
      ],
      "execution_count": 72,
      "outputs": [
        {
          "output_type": "stream",
          "text": [
            "--- Data loaded. Loading time: 24.492483615875244 seconds ---\n"
          ],
          "name": "stdout"
        }
      ]
    },
    {
      "cell_type": "code",
      "metadata": {
        "id": "HkBvEsLX6FTa"
      },
      "source": [
        "X = pd.DataFrame(Trial_dict[\"X\"])\n",
        "y = pd.DataFrame(Trial_dict[\"y\"])"
      ],
      "execution_count": 78,
      "outputs": []
    },
    {
      "cell_type": "code",
      "metadata": {
        "colab": {
          "base_uri": "https://localhost:8080/"
        },
        "id": "J2xDpNnm6NhN",
        "outputId": "530f63e4-6bf6-4bc2-a904-5eb8024d3aae"
      },
      "source": [
        "X.shape, y.shape"
      ],
      "execution_count": 74,
      "outputs": [
        {
          "output_type": "execute_result",
          "data": {
            "text/plain": [
              "((1168, 40), (1168, 1))"
            ]
          },
          "metadata": {
            "tags": []
          },
          "execution_count": 74
        }
      ]
    },
    {
      "cell_type": "code",
      "metadata": {
        "colab": {
          "base_uri": "https://localhost:8080/",
          "height": 435
        },
        "id": "lMM1xJuC6U7s",
        "outputId": "599f1fb5-7e37-4d61-e8a1-32e1e9292d11"
      },
      "source": [
        "#renaming the label column to emotion\n",
        "y=y.rename(columns= {0: 'emotion'})\n",
        "data = pd.concat([X, y], axis =1)\n",
        "cols = data.columns.tolist()\n",
        "cols = cols[-1:] + cols[:-1]\n",
        "data = data[cols]\n",
        "data"
      ],
      "execution_count": 92,
      "outputs": [
        {
          "output_type": "execute_result",
          "data": {
            "text/html": [
              "<div>\n",
              "<style scoped>\n",
              "    .dataframe tbody tr th:only-of-type {\n",
              "        vertical-align: middle;\n",
              "    }\n",
              "\n",
              "    .dataframe tbody tr th {\n",
              "        vertical-align: top;\n",
              "    }\n",
              "\n",
              "    .dataframe thead th {\n",
              "        text-align: right;\n",
              "    }\n",
              "</style>\n",
              "<table border=\"1\" class=\"dataframe\">\n",
              "  <thead>\n",
              "    <tr style=\"text-align: right;\">\n",
              "      <th></th>\n",
              "      <th>emotion</th>\n",
              "      <th>0</th>\n",
              "      <th>1</th>\n",
              "      <th>2</th>\n",
              "      <th>3</th>\n",
              "      <th>4</th>\n",
              "      <th>5</th>\n",
              "      <th>6</th>\n",
              "      <th>7</th>\n",
              "      <th>8</th>\n",
              "      <th>9</th>\n",
              "      <th>10</th>\n",
              "      <th>11</th>\n",
              "      <th>12</th>\n",
              "      <th>13</th>\n",
              "      <th>14</th>\n",
              "      <th>15</th>\n",
              "      <th>16</th>\n",
              "      <th>17</th>\n",
              "      <th>18</th>\n",
              "      <th>19</th>\n",
              "      <th>20</th>\n",
              "      <th>21</th>\n",
              "      <th>22</th>\n",
              "      <th>23</th>\n",
              "      <th>24</th>\n",
              "      <th>25</th>\n",
              "      <th>26</th>\n",
              "      <th>27</th>\n",
              "      <th>28</th>\n",
              "      <th>29</th>\n",
              "      <th>30</th>\n",
              "      <th>31</th>\n",
              "      <th>32</th>\n",
              "      <th>33</th>\n",
              "      <th>34</th>\n",
              "      <th>35</th>\n",
              "      <th>36</th>\n",
              "      <th>37</th>\n",
              "      <th>38</th>\n",
              "      <th>39</th>\n",
              "    </tr>\n",
              "  </thead>\n",
              "  <tbody>\n",
              "    <tr>\n",
              "      <th>0</th>\n",
              "      <td>des</td>\n",
              "      <td>-299.244476</td>\n",
              "      <td>134.937912</td>\n",
              "      <td>-38.547646</td>\n",
              "      <td>32.485504</td>\n",
              "      <td>3.204261</td>\n",
              "      <td>-26.618738</td>\n",
              "      <td>14.904951</td>\n",
              "      <td>-7.597967</td>\n",
              "      <td>-9.162752</td>\n",
              "      <td>4.662045</td>\n",
              "      <td>-11.622400</td>\n",
              "      <td>-3.855593</td>\n",
              "      <td>-6.554804</td>\n",
              "      <td>-13.773700</td>\n",
              "      <td>-2.608310</td>\n",
              "      <td>-7.527237</td>\n",
              "      <td>-4.670477</td>\n",
              "      <td>0.697392</td>\n",
              "      <td>-9.785432</td>\n",
              "      <td>-4.865035</td>\n",
              "      <td>-2.856929</td>\n",
              "      <td>-9.714797</td>\n",
              "      <td>-2.941893</td>\n",
              "      <td>-4.022176</td>\n",
              "      <td>-7.476486</td>\n",
              "      <td>-1.894922</td>\n",
              "      <td>-4.093746</td>\n",
              "      <td>-2.224765</td>\n",
              "      <td>2.169287</td>\n",
              "      <td>0.460872</td>\n",
              "      <td>6.342788</td>\n",
              "      <td>7.944646</td>\n",
              "      <td>4.955812</td>\n",
              "      <td>7.856286</td>\n",
              "      <td>4.108639</td>\n",
              "      <td>2.609336</td>\n",
              "      <td>4.280911</td>\n",
              "      <td>0.224271</td>\n",
              "      <td>3.728909</td>\n",
              "      <td>5.090572</td>\n",
              "    </tr>\n",
              "    <tr>\n",
              "      <th>1</th>\n",
              "      <td>med</td>\n",
              "      <td>-280.755219</td>\n",
              "      <td>126.081894</td>\n",
              "      <td>-41.298115</td>\n",
              "      <td>38.425438</td>\n",
              "      <td>0.828395</td>\n",
              "      <td>-24.939224</td>\n",
              "      <td>19.244261</td>\n",
              "      <td>-11.226633</td>\n",
              "      <td>-9.258340</td>\n",
              "      <td>3.081147</td>\n",
              "      <td>-17.815662</td>\n",
              "      <td>-2.693212</td>\n",
              "      <td>-3.222776</td>\n",
              "      <td>-11.625367</td>\n",
              "      <td>0.875252</td>\n",
              "      <td>-8.848180</td>\n",
              "      <td>-7.264411</td>\n",
              "      <td>1.203914</td>\n",
              "      <td>-10.972466</td>\n",
              "      <td>-5.013815</td>\n",
              "      <td>-2.063886</td>\n",
              "      <td>-11.895419</td>\n",
              "      <td>-3.339726</td>\n",
              "      <td>-3.934288</td>\n",
              "      <td>-8.959902</td>\n",
              "      <td>-2.532706</td>\n",
              "      <td>-8.313913</td>\n",
              "      <td>-6.119390</td>\n",
              "      <td>3.669958</td>\n",
              "      <td>1.787428</td>\n",
              "      <td>8.762587</td>\n",
              "      <td>11.925750</td>\n",
              "      <td>7.551251</td>\n",
              "      <td>9.200706</td>\n",
              "      <td>2.482389</td>\n",
              "      <td>2.761377</td>\n",
              "      <td>7.229163</td>\n",
              "      <td>0.452960</td>\n",
              "      <td>4.331350</td>\n",
              "      <td>5.395949</td>\n",
              "    </tr>\n",
              "    <tr>\n",
              "      <th>2</th>\n",
              "      <td>neu</td>\n",
              "      <td>-289.371674</td>\n",
              "      <td>163.568909</td>\n",
              "      <td>-42.457962</td>\n",
              "      <td>31.825321</td>\n",
              "      <td>9.872895</td>\n",
              "      <td>-18.090706</td>\n",
              "      <td>15.875987</td>\n",
              "      <td>-11.537040</td>\n",
              "      <td>-8.125425</td>\n",
              "      <td>0.530380</td>\n",
              "      <td>-17.792027</td>\n",
              "      <td>-1.966992</td>\n",
              "      <td>-2.961759</td>\n",
              "      <td>-7.976524</td>\n",
              "      <td>0.711579</td>\n",
              "      <td>-12.484450</td>\n",
              "      <td>-5.248092</td>\n",
              "      <td>2.978511</td>\n",
              "      <td>-13.843119</td>\n",
              "      <td>-5.348973</td>\n",
              "      <td>0.686069</td>\n",
              "      <td>-11.644198</td>\n",
              "      <td>-6.281087</td>\n",
              "      <td>-5.437551</td>\n",
              "      <td>-8.937038</td>\n",
              "      <td>-3.735828</td>\n",
              "      <td>-6.220537</td>\n",
              "      <td>-1.735462</td>\n",
              "      <td>0.900201</td>\n",
              "      <td>-7.883902</td>\n",
              "      <td>-2.561250</td>\n",
              "      <td>-0.950544</td>\n",
              "      <td>-4.833997</td>\n",
              "      <td>2.501456</td>\n",
              "      <td>0.179654</td>\n",
              "      <td>-0.101232</td>\n",
              "      <td>7.432496</td>\n",
              "      <td>6.438443</td>\n",
              "      <td>9.989048</td>\n",
              "      <td>10.347374</td>\n",
              "    </tr>\n",
              "    <tr>\n",
              "      <th>3</th>\n",
              "      <td>ale</td>\n",
              "      <td>-289.829590</td>\n",
              "      <td>122.062752</td>\n",
              "      <td>-47.390533</td>\n",
              "      <td>30.187838</td>\n",
              "      <td>6.926980</td>\n",
              "      <td>-19.324974</td>\n",
              "      <td>8.132305</td>\n",
              "      <td>-19.527636</td>\n",
              "      <td>-6.840974</td>\n",
              "      <td>3.717316</td>\n",
              "      <td>-18.629246</td>\n",
              "      <td>-3.734191</td>\n",
              "      <td>-7.389874</td>\n",
              "      <td>-12.683773</td>\n",
              "      <td>2.828109</td>\n",
              "      <td>-10.750315</td>\n",
              "      <td>-9.235787</td>\n",
              "      <td>3.774590</td>\n",
              "      <td>-8.282649</td>\n",
              "      <td>-4.805080</td>\n",
              "      <td>1.280329</td>\n",
              "      <td>-5.235325</td>\n",
              "      <td>-0.304205</td>\n",
              "      <td>-1.263289</td>\n",
              "      <td>-4.907875</td>\n",
              "      <td>-0.458500</td>\n",
              "      <td>-0.603904</td>\n",
              "      <td>4.436168</td>\n",
              "      <td>6.061274</td>\n",
              "      <td>1.145645</td>\n",
              "      <td>5.863343</td>\n",
              "      <td>1.454023</td>\n",
              "      <td>-3.912467</td>\n",
              "      <td>3.030716</td>\n",
              "      <td>-1.044044</td>\n",
              "      <td>-2.317915</td>\n",
              "      <td>3.152509</td>\n",
              "      <td>-0.738592</td>\n",
              "      <td>1.187798</td>\n",
              "      <td>4.010984</td>\n",
              "    </tr>\n",
              "    <tr>\n",
              "      <th>4</th>\n",
              "      <td>ale</td>\n",
              "      <td>-253.765579</td>\n",
              "      <td>157.213974</td>\n",
              "      <td>-55.141525</td>\n",
              "      <td>26.518539</td>\n",
              "      <td>2.841007</td>\n",
              "      <td>-21.679552</td>\n",
              "      <td>12.843037</td>\n",
              "      <td>-16.090603</td>\n",
              "      <td>-3.021253</td>\n",
              "      <td>7.149221</td>\n",
              "      <td>-14.612515</td>\n",
              "      <td>0.835789</td>\n",
              "      <td>-5.195010</td>\n",
              "      <td>-9.742453</td>\n",
              "      <td>2.814099</td>\n",
              "      <td>-11.553067</td>\n",
              "      <td>-6.538216</td>\n",
              "      <td>1.238463</td>\n",
              "      <td>-11.794512</td>\n",
              "      <td>-4.088756</td>\n",
              "      <td>-1.457239</td>\n",
              "      <td>-7.344140</td>\n",
              "      <td>0.964859</td>\n",
              "      <td>-1.949142</td>\n",
              "      <td>-3.119444</td>\n",
              "      <td>4.733239</td>\n",
              "      <td>-0.046918</td>\n",
              "      <td>0.064440</td>\n",
              "      <td>1.419936</td>\n",
              "      <td>-4.135865</td>\n",
              "      <td>1.099942</td>\n",
              "      <td>1.722127</td>\n",
              "      <td>-0.706707</td>\n",
              "      <td>5.784656</td>\n",
              "      <td>4.278145</td>\n",
              "      <td>4.550119</td>\n",
              "      <td>6.335617</td>\n",
              "      <td>0.084374</td>\n",
              "      <td>0.971715</td>\n",
              "      <td>-0.456071</td>\n",
              "    </tr>\n",
              "    <tr>\n",
              "      <th>...</th>\n",
              "      <td>...</td>\n",
              "      <td>...</td>\n",
              "      <td>...</td>\n",
              "      <td>...</td>\n",
              "      <td>...</td>\n",
              "      <td>...</td>\n",
              "      <td>...</td>\n",
              "      <td>...</td>\n",
              "      <td>...</td>\n",
              "      <td>...</td>\n",
              "      <td>...</td>\n",
              "      <td>...</td>\n",
              "      <td>...</td>\n",
              "      <td>...</td>\n",
              "      <td>...</td>\n",
              "      <td>...</td>\n",
              "      <td>...</td>\n",
              "      <td>...</td>\n",
              "      <td>...</td>\n",
              "      <td>...</td>\n",
              "      <td>...</td>\n",
              "      <td>...</td>\n",
              "      <td>...</td>\n",
              "      <td>...</td>\n",
              "      <td>...</td>\n",
              "      <td>...</td>\n",
              "      <td>...</td>\n",
              "      <td>...</td>\n",
              "      <td>...</td>\n",
              "      <td>...</td>\n",
              "      <td>...</td>\n",
              "      <td>...</td>\n",
              "      <td>...</td>\n",
              "      <td>...</td>\n",
              "      <td>...</td>\n",
              "      <td>...</td>\n",
              "      <td>...</td>\n",
              "      <td>...</td>\n",
              "      <td>...</td>\n",
              "      <td>...</td>\n",
              "      <td>...</td>\n",
              "    </tr>\n",
              "    <tr>\n",
              "      <th>1163</th>\n",
              "      <td>rai</td>\n",
              "      <td>-183.381912</td>\n",
              "      <td>104.789337</td>\n",
              "      <td>14.807039</td>\n",
              "      <td>-9.672712</td>\n",
              "      <td>-6.459239</td>\n",
              "      <td>22.275301</td>\n",
              "      <td>-15.362299</td>\n",
              "      <td>-3.511589</td>\n",
              "      <td>-6.818185</td>\n",
              "      <td>-2.652336</td>\n",
              "      <td>-14.710246</td>\n",
              "      <td>2.959188</td>\n",
              "      <td>-12.360679</td>\n",
              "      <td>-2.521060</td>\n",
              "      <td>-3.964326</td>\n",
              "      <td>7.648031</td>\n",
              "      <td>-7.394562</td>\n",
              "      <td>7.435741</td>\n",
              "      <td>-10.081418</td>\n",
              "      <td>0.600119</td>\n",
              "      <td>-5.337340</td>\n",
              "      <td>1.549539</td>\n",
              "      <td>-9.154539</td>\n",
              "      <td>2.787532</td>\n",
              "      <td>-12.210612</td>\n",
              "      <td>-2.672940</td>\n",
              "      <td>-6.649271</td>\n",
              "      <td>2.951764</td>\n",
              "      <td>-8.714530</td>\n",
              "      <td>3.518996</td>\n",
              "      <td>-7.182069</td>\n",
              "      <td>0.295285</td>\n",
              "      <td>-5.939539</td>\n",
              "      <td>0.105416</td>\n",
              "      <td>-7.892310</td>\n",
              "      <td>-0.272436</td>\n",
              "      <td>-9.534084</td>\n",
              "      <td>-2.516351</td>\n",
              "      <td>-10.488039</td>\n",
              "      <td>0.082739</td>\n",
              "    </tr>\n",
              "    <tr>\n",
              "      <th>1164</th>\n",
              "      <td>sur</td>\n",
              "      <td>-168.763092</td>\n",
              "      <td>69.961540</td>\n",
              "      <td>4.856296</td>\n",
              "      <td>6.709993</td>\n",
              "      <td>-4.954771</td>\n",
              "      <td>16.218691</td>\n",
              "      <td>-21.581753</td>\n",
              "      <td>-17.088322</td>\n",
              "      <td>-15.802592</td>\n",
              "      <td>0.064830</td>\n",
              "      <td>-20.791382</td>\n",
              "      <td>-7.436071</td>\n",
              "      <td>-10.392581</td>\n",
              "      <td>-0.421666</td>\n",
              "      <td>-17.951622</td>\n",
              "      <td>-0.481544</td>\n",
              "      <td>-8.983899</td>\n",
              "      <td>0.946325</td>\n",
              "      <td>-14.862037</td>\n",
              "      <td>-2.153126</td>\n",
              "      <td>-10.337239</td>\n",
              "      <td>-2.237139</td>\n",
              "      <td>-10.764190</td>\n",
              "      <td>6.132142</td>\n",
              "      <td>-8.123683</td>\n",
              "      <td>5.164895</td>\n",
              "      <td>-2.219543</td>\n",
              "      <td>12.866432</td>\n",
              "      <td>1.128578</td>\n",
              "      <td>12.086308</td>\n",
              "      <td>1.105813</td>\n",
              "      <td>11.755951</td>\n",
              "      <td>-0.267902</td>\n",
              "      <td>7.042945</td>\n",
              "      <td>0.667894</td>\n",
              "      <td>8.061094</td>\n",
              "      <td>-1.496503</td>\n",
              "      <td>5.407216</td>\n",
              "      <td>-4.816868</td>\n",
              "      <td>3.877920</td>\n",
              "    </tr>\n",
              "    <tr>\n",
              "      <th>1165</th>\n",
              "      <td>sur</td>\n",
              "      <td>-197.754654</td>\n",
              "      <td>57.595177</td>\n",
              "      <td>11.844243</td>\n",
              "      <td>15.256923</td>\n",
              "      <td>-3.609420</td>\n",
              "      <td>17.730558</td>\n",
              "      <td>-17.815870</td>\n",
              "      <td>-18.759687</td>\n",
              "      <td>-14.951108</td>\n",
              "      <td>1.754533</td>\n",
              "      <td>-21.413151</td>\n",
              "      <td>-8.789320</td>\n",
              "      <td>-14.282114</td>\n",
              "      <td>0.353392</td>\n",
              "      <td>-17.766882</td>\n",
              "      <td>-7.510611</td>\n",
              "      <td>-12.317961</td>\n",
              "      <td>0.619248</td>\n",
              "      <td>-12.611516</td>\n",
              "      <td>-2.820594</td>\n",
              "      <td>-10.624775</td>\n",
              "      <td>-0.985336</td>\n",
              "      <td>-5.822318</td>\n",
              "      <td>8.755358</td>\n",
              "      <td>-6.255806</td>\n",
              "      <td>11.334776</td>\n",
              "      <td>1.253069</td>\n",
              "      <td>11.042601</td>\n",
              "      <td>-2.753516</td>\n",
              "      <td>9.436544</td>\n",
              "      <td>-3.689944</td>\n",
              "      <td>5.533223</td>\n",
              "      <td>-4.322696</td>\n",
              "      <td>6.429312</td>\n",
              "      <td>-1.420542</td>\n",
              "      <td>4.590117</td>\n",
              "      <td>-3.639744</td>\n",
              "      <td>3.307014</td>\n",
              "      <td>-3.927598</td>\n",
              "      <td>2.898216</td>\n",
              "    </tr>\n",
              "    <tr>\n",
              "      <th>1166</th>\n",
              "      <td>med</td>\n",
              "      <td>-181.388840</td>\n",
              "      <td>85.465805</td>\n",
              "      <td>1.650203</td>\n",
              "      <td>4.989377</td>\n",
              "      <td>9.457479</td>\n",
              "      <td>18.850460</td>\n",
              "      <td>-8.209545</td>\n",
              "      <td>7.544348</td>\n",
              "      <td>-22.032797</td>\n",
              "      <td>1.836285</td>\n",
              "      <td>-23.831577</td>\n",
              "      <td>-5.945150</td>\n",
              "      <td>-15.134949</td>\n",
              "      <td>-4.104238</td>\n",
              "      <td>-14.195700</td>\n",
              "      <td>2.097072</td>\n",
              "      <td>-11.605044</td>\n",
              "      <td>1.109447</td>\n",
              "      <td>-10.540604</td>\n",
              "      <td>-0.574141</td>\n",
              "      <td>-5.950006</td>\n",
              "      <td>-0.305174</td>\n",
              "      <td>-9.543948</td>\n",
              "      <td>2.005487</td>\n",
              "      <td>-9.505818</td>\n",
              "      <td>0.946055</td>\n",
              "      <td>-11.221388</td>\n",
              "      <td>-4.524084</td>\n",
              "      <td>-9.079027</td>\n",
              "      <td>-5.145490</td>\n",
              "      <td>-14.498576</td>\n",
              "      <td>-3.387048</td>\n",
              "      <td>-10.812784</td>\n",
              "      <td>-2.691946</td>\n",
              "      <td>-11.365395</td>\n",
              "      <td>-3.237841</td>\n",
              "      <td>-5.289690</td>\n",
              "      <td>2.339355</td>\n",
              "      <td>0.057275</td>\n",
              "      <td>11.052513</td>\n",
              "    </tr>\n",
              "    <tr>\n",
              "      <th>1167</th>\n",
              "      <td>tri</td>\n",
              "      <td>-206.313034</td>\n",
              "      <td>113.105385</td>\n",
              "      <td>6.939864</td>\n",
              "      <td>1.664479</td>\n",
              "      <td>5.718050</td>\n",
              "      <td>18.925560</td>\n",
              "      <td>-14.919032</td>\n",
              "      <td>-11.617384</td>\n",
              "      <td>-16.695332</td>\n",
              "      <td>-1.525895</td>\n",
              "      <td>-18.012861</td>\n",
              "      <td>2.286772</td>\n",
              "      <td>-12.518064</td>\n",
              "      <td>-3.627097</td>\n",
              "      <td>-5.576109</td>\n",
              "      <td>-0.133803</td>\n",
              "      <td>-9.392489</td>\n",
              "      <td>4.018251</td>\n",
              "      <td>-6.280741</td>\n",
              "      <td>-1.676729</td>\n",
              "      <td>-8.706374</td>\n",
              "      <td>3.332483</td>\n",
              "      <td>-9.757199</td>\n",
              "      <td>-3.984983</td>\n",
              "      <td>-9.930320</td>\n",
              "      <td>-2.000614</td>\n",
              "      <td>-12.927699</td>\n",
              "      <td>-3.982507</td>\n",
              "      <td>-10.247149</td>\n",
              "      <td>-2.849290</td>\n",
              "      <td>-11.686260</td>\n",
              "      <td>-1.831736</td>\n",
              "      <td>-4.884411</td>\n",
              "      <td>6.534710</td>\n",
              "      <td>8.434738</td>\n",
              "      <td>15.874154</td>\n",
              "      <td>14.984244</td>\n",
              "      <td>17.804802</td>\n",
              "      <td>6.362661</td>\n",
              "      <td>10.312257</td>\n",
              "    </tr>\n",
              "  </tbody>\n",
              "</table>\n",
              "<p>1168 rows × 41 columns</p>\n",
              "</div>"
            ],
            "text/plain": [
              "     emotion           0           1  ...         37         38         39\n",
              "0        des -299.244476  134.937912  ...   0.224271   3.728909   5.090572\n",
              "1        med -280.755219  126.081894  ...   0.452960   4.331350   5.395949\n",
              "2        neu -289.371674  163.568909  ...   6.438443   9.989048  10.347374\n",
              "3        ale -289.829590  122.062752  ...  -0.738592   1.187798   4.010984\n",
              "4        ale -253.765579  157.213974  ...   0.084374   0.971715  -0.456071\n",
              "...      ...         ...         ...  ...        ...        ...        ...\n",
              "1163     rai -183.381912  104.789337  ...  -2.516351 -10.488039   0.082739\n",
              "1164     sur -168.763092   69.961540  ...   5.407216  -4.816868   3.877920\n",
              "1165     sur -197.754654   57.595177  ...   3.307014  -3.927598   2.898216\n",
              "1166     med -181.388840   85.465805  ...   2.339355   0.057275  11.052513\n",
              "1167     tri -206.313034  113.105385  ...  17.804802   6.362661  10.312257\n",
              "\n",
              "[1168 rows x 41 columns]"
            ]
          },
          "metadata": {
            "tags": []
          },
          "execution_count": 92
        }
      ]
    },
    {
      "cell_type": "code",
      "metadata": {
        "id": "C0LELjfC62Pp"
      },
      "source": [
        "data = data.reindex(np.random.permutation(data.index))"
      ],
      "execution_count": 95,
      "outputs": []
    },
    {
      "cell_type": "code",
      "metadata": {
        "colab": {
          "base_uri": "https://localhost:8080/",
          "height": 435
        },
        "id": "WSRcjQcS9NSh",
        "outputId": "c62174a2-ce08-4913-9879-c89a950204b8"
      },
      "source": [
        "data"
      ],
      "execution_count": 97,
      "outputs": [
        {
          "output_type": "execute_result",
          "data": {
            "text/html": [
              "<div>\n",
              "<style scoped>\n",
              "    .dataframe tbody tr th:only-of-type {\n",
              "        vertical-align: middle;\n",
              "    }\n",
              "\n",
              "    .dataframe tbody tr th {\n",
              "        vertical-align: top;\n",
              "    }\n",
              "\n",
              "    .dataframe thead th {\n",
              "        text-align: right;\n",
              "    }\n",
              "</style>\n",
              "<table border=\"1\" class=\"dataframe\">\n",
              "  <thead>\n",
              "    <tr style=\"text-align: right;\">\n",
              "      <th></th>\n",
              "      <th>emotion</th>\n",
              "      <th>0</th>\n",
              "      <th>1</th>\n",
              "      <th>2</th>\n",
              "      <th>3</th>\n",
              "      <th>4</th>\n",
              "      <th>5</th>\n",
              "      <th>6</th>\n",
              "      <th>7</th>\n",
              "      <th>8</th>\n",
              "      <th>9</th>\n",
              "      <th>10</th>\n",
              "      <th>11</th>\n",
              "      <th>12</th>\n",
              "      <th>13</th>\n",
              "      <th>14</th>\n",
              "      <th>15</th>\n",
              "      <th>16</th>\n",
              "      <th>17</th>\n",
              "      <th>18</th>\n",
              "      <th>19</th>\n",
              "      <th>20</th>\n",
              "      <th>21</th>\n",
              "      <th>22</th>\n",
              "      <th>23</th>\n",
              "      <th>24</th>\n",
              "      <th>25</th>\n",
              "      <th>26</th>\n",
              "      <th>27</th>\n",
              "      <th>28</th>\n",
              "      <th>29</th>\n",
              "      <th>30</th>\n",
              "      <th>31</th>\n",
              "      <th>32</th>\n",
              "      <th>33</th>\n",
              "      <th>34</th>\n",
              "      <th>35</th>\n",
              "      <th>36</th>\n",
              "      <th>37</th>\n",
              "      <th>38</th>\n",
              "      <th>39</th>\n",
              "    </tr>\n",
              "  </thead>\n",
              "  <tbody>\n",
              "    <tr>\n",
              "      <th>383</th>\n",
              "      <td>med</td>\n",
              "      <td>-264.575592</td>\n",
              "      <td>130.285446</td>\n",
              "      <td>-26.073854</td>\n",
              "      <td>18.074808</td>\n",
              "      <td>14.153781</td>\n",
              "      <td>22.714178</td>\n",
              "      <td>-16.193499</td>\n",
              "      <td>-10.252567</td>\n",
              "      <td>5.666986</td>\n",
              "      <td>-11.880415</td>\n",
              "      <td>-28.163811</td>\n",
              "      <td>0.025416</td>\n",
              "      <td>-15.954173</td>\n",
              "      <td>-17.573496</td>\n",
              "      <td>3.735583</td>\n",
              "      <td>-15.112044</td>\n",
              "      <td>-7.265766</td>\n",
              "      <td>-3.706454</td>\n",
              "      <td>-2.136021</td>\n",
              "      <td>-9.878043</td>\n",
              "      <td>-9.530407</td>\n",
              "      <td>0.982240</td>\n",
              "      <td>-4.973524</td>\n",
              "      <td>-6.877205</td>\n",
              "      <td>-8.215983</td>\n",
              "      <td>-3.463153</td>\n",
              "      <td>-7.864753</td>\n",
              "      <td>-3.588989</td>\n",
              "      <td>-7.421807</td>\n",
              "      <td>-3.128881</td>\n",
              "      <td>-5.933743</td>\n",
              "      <td>-9.026754</td>\n",
              "      <td>-5.962086</td>\n",
              "      <td>-8.676147</td>\n",
              "      <td>-5.493057</td>\n",
              "      <td>-0.828778</td>\n",
              "      <td>-3.837524</td>\n",
              "      <td>-0.486762</td>\n",
              "      <td>-0.225208</td>\n",
              "      <td>-0.135887</td>\n",
              "    </tr>\n",
              "    <tr>\n",
              "      <th>115</th>\n",
              "      <td>sur</td>\n",
              "      <td>-221.562592</td>\n",
              "      <td>132.651428</td>\n",
              "      <td>-13.281281</td>\n",
              "      <td>48.523228</td>\n",
              "      <td>0.233749</td>\n",
              "      <td>16.115372</td>\n",
              "      <td>-28.058571</td>\n",
              "      <td>-1.830076</td>\n",
              "      <td>-15.435079</td>\n",
              "      <td>-15.494793</td>\n",
              "      <td>-15.947625</td>\n",
              "      <td>-13.854774</td>\n",
              "      <td>-10.214729</td>\n",
              "      <td>-9.598344</td>\n",
              "      <td>1.736120</td>\n",
              "      <td>-24.526609</td>\n",
              "      <td>-0.292108</td>\n",
              "      <td>-2.958112</td>\n",
              "      <td>-12.495849</td>\n",
              "      <td>-14.223632</td>\n",
              "      <td>2.267883</td>\n",
              "      <td>6.666430</td>\n",
              "      <td>-6.116266</td>\n",
              "      <td>6.255541</td>\n",
              "      <td>2.499313</td>\n",
              "      <td>4.716085</td>\n",
              "      <td>5.141765</td>\n",
              "      <td>7.130899</td>\n",
              "      <td>4.886462</td>\n",
              "      <td>10.183178</td>\n",
              "      <td>9.594508</td>\n",
              "      <td>2.005501</td>\n",
              "      <td>-0.079724</td>\n",
              "      <td>3.752283</td>\n",
              "      <td>4.238250</td>\n",
              "      <td>3.104111</td>\n",
              "      <td>5.541846</td>\n",
              "      <td>-1.704234</td>\n",
              "      <td>3.399171</td>\n",
              "      <td>0.629548</td>\n",
              "    </tr>\n",
              "    <tr>\n",
              "      <th>447</th>\n",
              "      <td>rai</td>\n",
              "      <td>-229.215500</td>\n",
              "      <td>130.265732</td>\n",
              "      <td>-55.197746</td>\n",
              "      <td>1.510071</td>\n",
              "      <td>6.944549</td>\n",
              "      <td>11.584821</td>\n",
              "      <td>-13.266697</td>\n",
              "      <td>-6.544347</td>\n",
              "      <td>-11.814191</td>\n",
              "      <td>-14.175822</td>\n",
              "      <td>-30.788101</td>\n",
              "      <td>3.417075</td>\n",
              "      <td>-7.014583</td>\n",
              "      <td>-15.149282</td>\n",
              "      <td>-4.415112</td>\n",
              "      <td>-11.450731</td>\n",
              "      <td>-6.959331</td>\n",
              "      <td>-4.724225</td>\n",
              "      <td>-8.062578</td>\n",
              "      <td>4.042225</td>\n",
              "      <td>-17.154245</td>\n",
              "      <td>-5.684399</td>\n",
              "      <td>-6.909870</td>\n",
              "      <td>-4.731059</td>\n",
              "      <td>-7.343509</td>\n",
              "      <td>-4.805856</td>\n",
              "      <td>-3.186548</td>\n",
              "      <td>-2.610428</td>\n",
              "      <td>-7.872740</td>\n",
              "      <td>-0.972020</td>\n",
              "      <td>-3.595400</td>\n",
              "      <td>-4.795673</td>\n",
              "      <td>-2.017555</td>\n",
              "      <td>-5.379217</td>\n",
              "      <td>-2.478461</td>\n",
              "      <td>0.472585</td>\n",
              "      <td>1.778797</td>\n",
              "      <td>1.936437</td>\n",
              "      <td>2.287365</td>\n",
              "      <td>5.735839</td>\n",
              "    </tr>\n",
              "    <tr>\n",
              "      <th>569</th>\n",
              "      <td>neu</td>\n",
              "      <td>-199.100983</td>\n",
              "      <td>121.078461</td>\n",
              "      <td>22.698408</td>\n",
              "      <td>34.513855</td>\n",
              "      <td>-5.095586</td>\n",
              "      <td>-6.389561</td>\n",
              "      <td>-7.573924</td>\n",
              "      <td>-11.669936</td>\n",
              "      <td>2.049757</td>\n",
              "      <td>-5.109477</td>\n",
              "      <td>-3.294523</td>\n",
              "      <td>-0.205098</td>\n",
              "      <td>-14.187895</td>\n",
              "      <td>-2.807696</td>\n",
              "      <td>-11.339463</td>\n",
              "      <td>2.341182</td>\n",
              "      <td>-5.454646</td>\n",
              "      <td>3.636798</td>\n",
              "      <td>-6.104137</td>\n",
              "      <td>-2.239921</td>\n",
              "      <td>-11.821444</td>\n",
              "      <td>0.350253</td>\n",
              "      <td>-7.208769</td>\n",
              "      <td>2.054716</td>\n",
              "      <td>-7.038365</td>\n",
              "      <td>0.005184</td>\n",
              "      <td>-11.636672</td>\n",
              "      <td>-5.675443</td>\n",
              "      <td>-6.951874</td>\n",
              "      <td>-1.418214</td>\n",
              "      <td>-8.770733</td>\n",
              "      <td>0.607635</td>\n",
              "      <td>-7.056389</td>\n",
              "      <td>-0.681275</td>\n",
              "      <td>-7.195282</td>\n",
              "      <td>-1.462087</td>\n",
              "      <td>-5.185653</td>\n",
              "      <td>-0.511211</td>\n",
              "      <td>-5.799866</td>\n",
              "      <td>-0.558721</td>\n",
              "    </tr>\n",
              "    <tr>\n",
              "      <th>215</th>\n",
              "      <td>tri</td>\n",
              "      <td>-334.814789</td>\n",
              "      <td>98.203583</td>\n",
              "      <td>29.705946</td>\n",
              "      <td>35.214897</td>\n",
              "      <td>13.587405</td>\n",
              "      <td>-3.457274</td>\n",
              "      <td>-12.189611</td>\n",
              "      <td>-1.244765</td>\n",
              "      <td>-40.623760</td>\n",
              "      <td>-8.409569</td>\n",
              "      <td>-0.426568</td>\n",
              "      <td>-12.528638</td>\n",
              "      <td>-4.136507</td>\n",
              "      <td>-4.404785</td>\n",
              "      <td>-9.368823</td>\n",
              "      <td>0.447348</td>\n",
              "      <td>-6.645897</td>\n",
              "      <td>-1.898227</td>\n",
              "      <td>-5.322394</td>\n",
              "      <td>-5.084718</td>\n",
              "      <td>-7.155218</td>\n",
              "      <td>0.199517</td>\n",
              "      <td>-9.530564</td>\n",
              "      <td>-5.200235</td>\n",
              "      <td>-1.558762</td>\n",
              "      <td>-4.908151</td>\n",
              "      <td>-4.839035</td>\n",
              "      <td>-5.030124</td>\n",
              "      <td>-5.761814</td>\n",
              "      <td>-1.483653</td>\n",
              "      <td>-9.144315</td>\n",
              "      <td>-4.441563</td>\n",
              "      <td>-5.386304</td>\n",
              "      <td>-6.981078</td>\n",
              "      <td>-0.316726</td>\n",
              "      <td>-6.694266</td>\n",
              "      <td>-1.554921</td>\n",
              "      <td>-3.148857</td>\n",
              "      <td>-3.164370</td>\n",
              "      <td>1.750118</td>\n",
              "    </tr>\n",
              "    <tr>\n",
              "      <th>...</th>\n",
              "      <td>...</td>\n",
              "      <td>...</td>\n",
              "      <td>...</td>\n",
              "      <td>...</td>\n",
              "      <td>...</td>\n",
              "      <td>...</td>\n",
              "      <td>...</td>\n",
              "      <td>...</td>\n",
              "      <td>...</td>\n",
              "      <td>...</td>\n",
              "      <td>...</td>\n",
              "      <td>...</td>\n",
              "      <td>...</td>\n",
              "      <td>...</td>\n",
              "      <td>...</td>\n",
              "      <td>...</td>\n",
              "      <td>...</td>\n",
              "      <td>...</td>\n",
              "      <td>...</td>\n",
              "      <td>...</td>\n",
              "      <td>...</td>\n",
              "      <td>...</td>\n",
              "      <td>...</td>\n",
              "      <td>...</td>\n",
              "      <td>...</td>\n",
              "      <td>...</td>\n",
              "      <td>...</td>\n",
              "      <td>...</td>\n",
              "      <td>...</td>\n",
              "      <td>...</td>\n",
              "      <td>...</td>\n",
              "      <td>...</td>\n",
              "      <td>...</td>\n",
              "      <td>...</td>\n",
              "      <td>...</td>\n",
              "      <td>...</td>\n",
              "      <td>...</td>\n",
              "      <td>...</td>\n",
              "      <td>...</td>\n",
              "      <td>...</td>\n",
              "      <td>...</td>\n",
              "    </tr>\n",
              "    <tr>\n",
              "      <th>622</th>\n",
              "      <td>neu</td>\n",
              "      <td>-369.896576</td>\n",
              "      <td>158.679153</td>\n",
              "      <td>-13.005588</td>\n",
              "      <td>33.899879</td>\n",
              "      <td>8.928900</td>\n",
              "      <td>-11.329848</td>\n",
              "      <td>6.011229</td>\n",
              "      <td>-10.895184</td>\n",
              "      <td>-10.985461</td>\n",
              "      <td>-12.777090</td>\n",
              "      <td>-11.368014</td>\n",
              "      <td>-3.458304</td>\n",
              "      <td>-6.630300</td>\n",
              "      <td>1.642344</td>\n",
              "      <td>-1.317714</td>\n",
              "      <td>-7.290534</td>\n",
              "      <td>1.501050</td>\n",
              "      <td>-5.029347</td>\n",
              "      <td>-10.098334</td>\n",
              "      <td>-2.285958</td>\n",
              "      <td>-3.624876</td>\n",
              "      <td>-7.295428</td>\n",
              "      <td>-4.447101</td>\n",
              "      <td>-2.452465</td>\n",
              "      <td>-3.765482</td>\n",
              "      <td>-3.899347</td>\n",
              "      <td>-3.612987</td>\n",
              "      <td>-3.423666</td>\n",
              "      <td>-2.214071</td>\n",
              "      <td>-4.345472</td>\n",
              "      <td>-3.530089</td>\n",
              "      <td>0.640691</td>\n",
              "      <td>0.595383</td>\n",
              "      <td>1.933138</td>\n",
              "      <td>3.660360</td>\n",
              "      <td>4.616138</td>\n",
              "      <td>7.594579</td>\n",
              "      <td>9.752658</td>\n",
              "      <td>9.169312</td>\n",
              "      <td>5.524381</td>\n",
              "    </tr>\n",
              "    <tr>\n",
              "      <th>251</th>\n",
              "      <td>ale</td>\n",
              "      <td>-147.419312</td>\n",
              "      <td>85.346085</td>\n",
              "      <td>-9.298602</td>\n",
              "      <td>-0.031357</td>\n",
              "      <td>-0.613556</td>\n",
              "      <td>-16.442879</td>\n",
              "      <td>-18.065348</td>\n",
              "      <td>-12.510987</td>\n",
              "      <td>-33.985962</td>\n",
              "      <td>7.700841</td>\n",
              "      <td>-9.411318</td>\n",
              "      <td>-7.850735</td>\n",
              "      <td>-14.986526</td>\n",
              "      <td>-8.213786</td>\n",
              "      <td>-9.160970</td>\n",
              "      <td>-0.566216</td>\n",
              "      <td>-10.096625</td>\n",
              "      <td>-7.026003</td>\n",
              "      <td>-12.866479</td>\n",
              "      <td>-3.501611</td>\n",
              "      <td>-11.490853</td>\n",
              "      <td>-2.885401</td>\n",
              "      <td>-10.649588</td>\n",
              "      <td>-7.065922</td>\n",
              "      <td>-7.288245</td>\n",
              "      <td>-8.032702</td>\n",
              "      <td>4.037998</td>\n",
              "      <td>2.600193</td>\n",
              "      <td>3.877537</td>\n",
              "      <td>5.035678</td>\n",
              "      <td>4.569480</td>\n",
              "      <td>6.926870</td>\n",
              "      <td>7.739581</td>\n",
              "      <td>7.143492</td>\n",
              "      <td>2.137386</td>\n",
              "      <td>5.218361</td>\n",
              "      <td>-6.164259</td>\n",
              "      <td>1.357495</td>\n",
              "      <td>-3.376571</td>\n",
              "      <td>0.254263</td>\n",
              "    </tr>\n",
              "    <tr>\n",
              "      <th>124</th>\n",
              "      <td>rai</td>\n",
              "      <td>-221.646759</td>\n",
              "      <td>154.564758</td>\n",
              "      <td>-5.108234</td>\n",
              "      <td>45.584511</td>\n",
              "      <td>4.760395</td>\n",
              "      <td>11.928919</td>\n",
              "      <td>-16.500906</td>\n",
              "      <td>-3.619299</td>\n",
              "      <td>-14.517721</td>\n",
              "      <td>-8.596875</td>\n",
              "      <td>-3.204843</td>\n",
              "      <td>-11.851026</td>\n",
              "      <td>-9.853251</td>\n",
              "      <td>0.506602</td>\n",
              "      <td>6.859248</td>\n",
              "      <td>-19.094452</td>\n",
              "      <td>-1.268641</td>\n",
              "      <td>1.949342</td>\n",
              "      <td>-6.925359</td>\n",
              "      <td>-9.998279</td>\n",
              "      <td>-4.481970</td>\n",
              "      <td>-2.753739</td>\n",
              "      <td>-6.365439</td>\n",
              "      <td>-2.628253</td>\n",
              "      <td>-5.776367</td>\n",
              "      <td>-2.620015</td>\n",
              "      <td>-5.507271</td>\n",
              "      <td>-2.414081</td>\n",
              "      <td>-6.156767</td>\n",
              "      <td>-2.467512</td>\n",
              "      <td>-2.117648</td>\n",
              "      <td>0.463084</td>\n",
              "      <td>5.215292</td>\n",
              "      <td>2.454342</td>\n",
              "      <td>7.053066</td>\n",
              "      <td>1.076100</td>\n",
              "      <td>1.727805</td>\n",
              "      <td>0.057153</td>\n",
              "      <td>3.152204</td>\n",
              "      <td>6.590435</td>\n",
              "    </tr>\n",
              "    <tr>\n",
              "      <th>1113</th>\n",
              "      <td>ale</td>\n",
              "      <td>-210.651184</td>\n",
              "      <td>89.122559</td>\n",
              "      <td>10.240124</td>\n",
              "      <td>21.578585</td>\n",
              "      <td>-1.147068</td>\n",
              "      <td>16.537539</td>\n",
              "      <td>-2.591742</td>\n",
              "      <td>-3.778094</td>\n",
              "      <td>-11.535473</td>\n",
              "      <td>-7.530898</td>\n",
              "      <td>-23.331703</td>\n",
              "      <td>-0.811278</td>\n",
              "      <td>-15.456935</td>\n",
              "      <td>-2.844621</td>\n",
              "      <td>-12.897062</td>\n",
              "      <td>-0.270728</td>\n",
              "      <td>-9.206958</td>\n",
              "      <td>-0.886614</td>\n",
              "      <td>-12.814568</td>\n",
              "      <td>-2.286105</td>\n",
              "      <td>-7.275732</td>\n",
              "      <td>-2.097583</td>\n",
              "      <td>-6.349483</td>\n",
              "      <td>-0.698667</td>\n",
              "      <td>-9.601393</td>\n",
              "      <td>1.894188</td>\n",
              "      <td>-5.729966</td>\n",
              "      <td>5.795693</td>\n",
              "      <td>-0.055946</td>\n",
              "      <td>6.902437</td>\n",
              "      <td>-1.638822</td>\n",
              "      <td>8.004159</td>\n",
              "      <td>-4.637936</td>\n",
              "      <td>4.070290</td>\n",
              "      <td>1.032634</td>\n",
              "      <td>3.806595</td>\n",
              "      <td>-2.753360</td>\n",
              "      <td>4.638169</td>\n",
              "      <td>-1.398591</td>\n",
              "      <td>5.598704</td>\n",
              "    </tr>\n",
              "    <tr>\n",
              "      <th>707</th>\n",
              "      <td>rai</td>\n",
              "      <td>-194.168762</td>\n",
              "      <td>150.674850</td>\n",
              "      <td>-23.165571</td>\n",
              "      <td>33.459671</td>\n",
              "      <td>-19.428955</td>\n",
              "      <td>20.419710</td>\n",
              "      <td>-22.948963</td>\n",
              "      <td>11.321194</td>\n",
              "      <td>-3.750842</td>\n",
              "      <td>-5.082583</td>\n",
              "      <td>-6.610572</td>\n",
              "      <td>-0.888238</td>\n",
              "      <td>-1.131789</td>\n",
              "      <td>-12.305676</td>\n",
              "      <td>6.725078</td>\n",
              "      <td>-14.976569</td>\n",
              "      <td>3.442933</td>\n",
              "      <td>-4.689543</td>\n",
              "      <td>-5.969924</td>\n",
              "      <td>-8.017172</td>\n",
              "      <td>-3.703482</td>\n",
              "      <td>-2.286494</td>\n",
              "      <td>-7.744667</td>\n",
              "      <td>1.764399</td>\n",
              "      <td>-2.458168</td>\n",
              "      <td>3.636128</td>\n",
              "      <td>-2.766313</td>\n",
              "      <td>-0.319435</td>\n",
              "      <td>0.055200</td>\n",
              "      <td>3.371228</td>\n",
              "      <td>-4.441801</td>\n",
              "      <td>-3.945652</td>\n",
              "      <td>-1.930188</td>\n",
              "      <td>-0.663313</td>\n",
              "      <td>4.788990</td>\n",
              "      <td>1.392843</td>\n",
              "      <td>9.764826</td>\n",
              "      <td>1.509098</td>\n",
              "      <td>4.966187</td>\n",
              "      <td>3.072809</td>\n",
              "    </tr>\n",
              "  </tbody>\n",
              "</table>\n",
              "<p>1168 rows × 41 columns</p>\n",
              "</div>"
            ],
            "text/plain": [
              "     emotion           0           1  ...        37        38        39\n",
              "383      med -264.575592  130.285446  ... -0.486762 -0.225208 -0.135887\n",
              "115      sur -221.562592  132.651428  ... -1.704234  3.399171  0.629548\n",
              "447      rai -229.215500  130.265732  ...  1.936437  2.287365  5.735839\n",
              "569      neu -199.100983  121.078461  ... -0.511211 -5.799866 -0.558721\n",
              "215      tri -334.814789   98.203583  ... -3.148857 -3.164370  1.750118\n",
              "...      ...         ...         ...  ...       ...       ...       ...\n",
              "622      neu -369.896576  158.679153  ...  9.752658  9.169312  5.524381\n",
              "251      ale -147.419312   85.346085  ...  1.357495 -3.376571  0.254263\n",
              "124      rai -221.646759  154.564758  ...  0.057153  3.152204  6.590435\n",
              "1113     ale -210.651184   89.122559  ...  4.638169 -1.398591  5.598704\n",
              "707      rai -194.168762  150.674850  ...  1.509098  4.966187  3.072809\n",
              "\n",
              "[1168 rows x 41 columns]"
            ]
          },
          "metadata": {
            "tags": []
          },
          "execution_count": 97
        }
      ]
    },
    {
      "cell_type": "code",
      "metadata": {
        "id": "-vqX0RT366Y-"
      },
      "source": [
        "data.to_csv(\"VERBO_OK_MFCC_Observed.csv\")"
      ],
      "execution_count": 98,
      "outputs": []
    },
    {
      "cell_type": "markdown",
      "metadata": {
        "id": "36HoqKZH6976"
      },
      "source": [
        "# SVM"
      ]
    },
    {
      "cell_type": "markdown",
      "metadata": {
        "id": "1YLKA76s-_8Z"
      },
      "source": [
        "Data Preparations"
      ]
    },
    {
      "cell_type": "code",
      "metadata": {
        "colab": {
          "base_uri": "https://localhost:8080/"
        },
        "id": "nhQpDDrD94iX",
        "outputId": "55f4058f-5c98-4aee-b7d2-b94c51bab709"
      },
      "source": [
        "import time\n",
        "\n",
        "starting_time = time.time()\n",
        "data = pd.read_csv('/content/VERBO_OK_MFCC_Observed.csv')\n",
        "print(\"data loaded in \" + str(time.time()-starting_time) + \"ms\")\n",
        "\n",
        "print(data.head())"
      ],
      "execution_count": 102,
      "outputs": [
        {
          "output_type": "stream",
          "text": [
            "data loaded in 0.025632858276367188ms\n",
            "   Unnamed: 0 emotion           0  ...        37        38        39\n",
            "0         383     med -264.575592  ... -0.486762 -0.225208 -0.135887\n",
            "1         115     sur -221.562592  ... -1.704234  3.399171  0.629548\n",
            "2         447     rai -229.215500  ...  1.936437  2.287365  5.735839\n",
            "3         569     neu -199.100983  ... -0.511211 -5.799866 -0.558721\n",
            "4         215     tri -334.814789  ... -3.148857 -3.164370  1.750118\n",
            "\n",
            "[5 rows x 42 columns]\n"
          ],
          "name": "stdout"
        }
      ]
    },
    {
      "cell_type": "code",
      "metadata": {
        "colab": {
          "base_uri": "https://localhost:8080/"
        },
        "id": "-FxGA31o-Vop",
        "outputId": "180c8092-2d29-439c-b594-e13ce50a1000"
      },
      "source": [
        "data.shape"
      ],
      "execution_count": 103,
      "outputs": [
        {
          "output_type": "execute_result",
          "data": {
            "text/plain": [
              "(1168, 42)"
            ]
          },
          "metadata": {
            "tags": []
          },
          "execution_count": 103
        }
      ]
    },
    {
      "cell_type": "code",
      "metadata": {
        "colab": {
          "base_uri": "https://localhost:8080/"
        },
        "id": "OYjBOX7j-amY",
        "outputId": "6bd3bc69-9530-4648-a762-bc8fb2e1a16f"
      },
      "source": [
        "data.columns"
      ],
      "execution_count": 109,
      "outputs": [
        {
          "output_type": "execute_result",
          "data": {
            "text/plain": [
              "Index(['emotion', '0', '1', '2', '3', '4', '5', '6', '7', '8', '9', '10', '11',\n",
              "       '12', '13', '14', '15', '16', '17', '18', '19', '20', '21', '22', '23',\n",
              "       '24', '25', '26', '27', '28', '29', '30', '31', '32', '33', '34', '35',\n",
              "       '36', '37', '38', '39'],\n",
              "      dtype='object')"
            ]
          },
          "metadata": {
            "tags": []
          },
          "execution_count": 109
        }
      ]
    },
    {
      "cell_type": "code",
      "metadata": {
        "id": "A4kiKMun-iXi"
      },
      "source": [
        "#data = data.drop('Unnamed: 0',axis=1)\n"
      ],
      "execution_count": 110,
      "outputs": []
    },
    {
      "cell_type": "code",
      "metadata": {
        "id": "dZ_CtRqE-1hA"
      },
      "source": [
        "X = data.drop('emotion', axis = 1).values\n",
        "y = data['emotion'].values"
      ],
      "execution_count": 111,
      "outputs": []
    },
    {
      "cell_type": "markdown",
      "metadata": {
        "id": "bqM14NKR_DFE"
      },
      "source": [
        "Implementing SVM with Scikit-Learn"
      ]
    },
    {
      "cell_type": "code",
      "metadata": {
        "id": "pmUeVqYY_EXC"
      },
      "source": [
        "import pandas as pd\n",
        "import numpy as np\n",
        "import matplotlib.pyplot as plt\n",
        "%matplotlib inline"
      ],
      "execution_count": 114,
      "outputs": []
    },
    {
      "cell_type": "code",
      "metadata": {
        "colab": {
          "base_uri": "https://localhost:8080/"
        },
        "id": "9icWJQyO_Kg3",
        "outputId": "d415044a-3bd3-40ee-ff69-8355b28b90b6"
      },
      "source": [
        "X.shape, y.shape"
      ],
      "execution_count": 115,
      "outputs": [
        {
          "output_type": "execute_result",
          "data": {
            "text/plain": [
              "((1168, 40), (1168,))"
            ]
          },
          "metadata": {
            "tags": []
          },
          "execution_count": 115
        }
      ]
    },
    {
      "cell_type": "code",
      "metadata": {
        "colab": {
          "base_uri": "https://localhost:8080/"
        },
        "id": "quAAb2yF_NDH",
        "outputId": "3572322e-f4c8-4baf-da1c-f7b8db204ffb"
      },
      "source": [
        "np.unique(y)"
      ],
      "execution_count": 116,
      "outputs": [
        {
          "output_type": "execute_result",
          "data": {
            "text/plain": [
              "array(['ale', 'des', 'med', 'neu', 'rai', 'sur', 'tri'], dtype=object)"
            ]
          },
          "metadata": {
            "tags": []
          },
          "execution_count": 116
        }
      ]
    },
    {
      "cell_type": "code",
      "metadata": {
        "id": "vfGJw7ii_O8O"
      },
      "source": [
        "from sklearn.model_selection import train_test_split\n",
        "\n",
        "X_train, X_test, y_train, y_test = train_test_split(X, y, test_size = 0.20)"
      ],
      "execution_count": 117,
      "outputs": []
    },
    {
      "cell_type": "code",
      "metadata": {
        "id": "b1yy9VPW_URI"
      },
      "source": [
        "\n",
        "from sklearn.svm import SVC\n",
        "\n",
        "svclassifier = SVC(kernel = 'linear')"
      ],
      "execution_count": 118,
      "outputs": []
    },
    {
      "cell_type": "code",
      "metadata": {
        "colab": {
          "base_uri": "https://localhost:8080/"
        },
        "id": "jn3MN1xW_YlJ",
        "outputId": "94979de1-aa01-4a68-ec81-a572585430c2"
      },
      "source": [
        "\n",
        "import time\n",
        "\n",
        "starting_time = time.time()\n",
        "svclassifier.fit(X_train, y_train)\n",
        "print(\"Trained model in %s ms \" % str(time.time() - starting_time))"
      ],
      "execution_count": 119,
      "outputs": [
        {
          "output_type": "stream",
          "text": [
            "Trained model in 10.410248517990112 ms \n"
          ],
          "name": "stdout"
        }
      ]
    },
    {
      "cell_type": "code",
      "metadata": {
        "id": "VYjyWa01_cXg"
      },
      "source": [
        "y_pred = svclassifier.predict(X_test)"
      ],
      "execution_count": 120,
      "outputs": []
    },
    {
      "cell_type": "code",
      "metadata": {
        "colab": {
          "base_uri": "https://localhost:8080/",
          "height": 529
        },
        "id": "WR4GZvbQ_gIJ",
        "outputId": "7eed26a8-0c41-4060-fdd6-2a6749c66892"
      },
      "source": [
        "from sklearn.metrics import classification_report, confusion_matrix,accuracy_score\n",
        "import seaborn as sn\n",
        "\n",
        "print(classification_report(y_test,y_pred))\n",
        "\n",
        "acc = float(accuracy_score(y_test,y_pred))*100\n",
        "print(\"----accuracy score %s ----\" % acc)\n",
        "\n",
        "cm = confusion_matrix(y_test,y_pred)\n",
        "df_cm = pd.DataFrame(cm)\n",
        "sn.heatmap(df_cm, annot=True, fmt='')\n",
        "plt.show()"
      ],
      "execution_count": 121,
      "outputs": [
        {
          "output_type": "stream",
          "text": [
            "              precision    recall  f1-score   support\n",
            "\n",
            "         ale       0.54      0.65      0.59        40\n",
            "         des       0.54      0.66      0.59        29\n",
            "         med       0.62      0.62      0.62        26\n",
            "         neu       0.68      0.81      0.74        32\n",
            "         rai       0.63      0.55      0.59        31\n",
            "         sur       0.66      0.61      0.63        38\n",
            "         tri       0.88      0.58      0.70        38\n",
            "\n",
            "    accuracy                           0.64       234\n",
            "   macro avg       0.65      0.64      0.64       234\n",
            "weighted avg       0.65      0.64      0.64       234\n",
            "\n",
            "----accuracy score 63.67521367521367 ----\n"
          ],
          "name": "stdout"
        },
        {
          "output_type": "display_data",
          "data": {
            "image/png": "[encoded data removed]",
            "text/plain": [
              "<Figure size 432x288 with 2 Axes>"
            ]
          },
          "metadata": {
            "tags": [],
            "needs_background": "light"
          }
        }
      ]
    },
    {
      "cell_type": "code",
      "metadata": {
        "colab": {
          "base_uri": "https://localhost:8080/"
        },
        "id": "Aodcwux3_nZx",
        "outputId": "311d0d23-230b-462c-9ff6-b69c236dc5ef"
      },
      "source": [
        "train_acc = float(svclassifier.score(X_train, y_train)*100)\n",
        "print(\"----train accuracy score %s ----\" % train_acc)\n",
        "\n",
        "test_acc = float(svclassifier.score(X_test, y_test)*100)\n",
        "print(\"----test accuracy score %s ----\" % test_acc)"
      ],
      "execution_count": 122,
      "outputs": [
        {
          "output_type": "stream",
          "text": [
            "----train accuracy score 79.97858672376874 ----\n",
            "----test accuracy score 63.67521367521367 ----\n"
          ],
          "name": "stdout"
        }
      ]
    },
    {
      "cell_type": "markdown",
      "metadata": {
        "id": "ULW6EM-B_rgr"
      },
      "source": [
        "CROSS VALIDATION"
      ]
    },
    {
      "cell_type": "code",
      "metadata": {
        "colab": {
          "base_uri": "https://localhost:8080/"
        },
        "id": "sIvVHxHz_q-n",
        "outputId": "39973358-b351-4817-c516-34c01a72e95d"
      },
      "source": [
        "from sklearn.model_selection import cross_val_score\n",
        "\n",
        "# no. of folds cv = 5\n",
        "cv_results = cross_val_score(svclassifier, X, y, cv = 5)\n",
        "print(cv_results)"
      ],
      "execution_count": 123,
      "outputs": [
        {
          "output_type": "stream",
          "text": [
            "[0.59401709 0.66666667 0.58119658 0.58369099 0.59227468]\n"
          ],
          "name": "stdout"
        }
      ]
    },
    {
      "cell_type": "markdown",
      "metadata": {
        "id": "dtKfUddWADOo"
      },
      "source": [
        "SCALING"
      ]
    },
    {
      "cell_type": "code",
      "metadata": {
        "colab": {
          "base_uri": "https://localhost:8080/"
        },
        "id": "-1oVI08d_-7f",
        "outputId": "db1617a0-6de6-422d-894b-bd1367aeb903"
      },
      "source": [
        "from sklearn.model_selection import train_test_split\n",
        "from sklearn.preprocessing import StandardScaler\n",
        "from sklearn.pipeline import Pipeline\n",
        "from sklearn.svm import SVC\n",
        "\n",
        "\n",
        "#splitting dataset into train/ test sets\n",
        "X_train, X_test, y_train, y_test = train_test_split(X, y, test_size = 0.20)\n",
        "\n",
        "# Setup the pipeline steps: steps\n",
        "steps = [('scaler', StandardScaler()),\n",
        "        ('SVM', SVC())]\n",
        "        \n",
        "# Create the pipeline: pipeline\n",
        "pipeline = Pipeline(steps)\n",
        "\n",
        "# Fit the pipeline to the training set: svc_scaled\n",
        "svc_scaled = pipeline.fit(X_train, y_train)\n",
        "\n",
        "# Instantiate and fit a classifier to the unscaled data\n",
        "svc_unscaled = SVC(kernel = 'linear').fit(X_train, y_train)\n",
        "\n",
        "# Compute and print metrics\n",
        "print('Accuracy with Scaling: {}'.format(svc_scaled.score(X_test, y_test)))\n",
        "print('Accuracy without Scaling: {}'.format(svc_unscaled.score(X_test, y_test)))"
      ],
      "execution_count": 124,
      "outputs": [
        {
          "output_type": "stream",
          "text": [
            "Accuracy with Scaling: 0.7478632478632479\n",
            "Accuracy without Scaling: 0.6153846153846154\n"
          ],
          "name": "stdout"
        }
      ]
    },
    {
      "cell_type": "code",
      "metadata": {
        "colab": {
          "base_uri": "https://localhost:8080/"
        },
        "id": "GKaxuL5wAOcM",
        "outputId": "42387d76-e220-40be-eeb0-a2d19eb9df2d"
      },
      "source": [
        "train_acc = float(svc_scaled.score(X_train, y_train)*100)\n",
        "print(\"----train accuracy score %s ----\" % train_acc)\n",
        "\n",
        "test_acc = float(svc_scaled.score(X_test, y_test)*100)\n",
        "print(\"----test accuracy score %s ----\" % test_acc)"
      ],
      "execution_count": 125,
      "outputs": [
        {
          "output_type": "stream",
          "text": [
            "----train accuracy score 94.00428265524626 ----\n",
            "----test accuracy score 74.78632478632478 ----\n"
          ],
          "name": "stdout"
        }
      ]
    },
    {
      "cell_type": "code",
      "metadata": {
        "id": "KiyAL9XqARhi"
      },
      "source": [
        "scaled_predictions = svc_scaled.predict(X_test)"
      ],
      "execution_count": 126,
      "outputs": []
    },
    {
      "cell_type": "code",
      "metadata": {
        "colab": {
          "base_uri": "https://localhost:8080/",
          "height": 529
        },
        "id": "Y-FtypV-AVFd",
        "outputId": "fc59b7cf-5c63-4dcf-d5f3-776f59c0926a"
      },
      "source": [
        "from sklearn.metrics import classification_report, confusion_matrix,accuracy_score\n",
        "import seaborn as sn\n",
        "\n",
        "print(classification_report(y_test,scaled_predictions))\n",
        "\n",
        "acc = float(accuracy_score(y_test,scaled_predictions))*100\n",
        "print(\"----accuracy score %s ----\" % acc)\n",
        "\n",
        "cm = confusion_matrix(y_test,scaled_predictions)\n",
        "df_cm = pd.DataFrame(cm)\n",
        "sn.heatmap(df_cm, annot=True, fmt='')\n",
        "plt.show()"
      ],
      "execution_count": 127,
      "outputs": [
        {
          "output_type": "stream",
          "text": [
            "              precision    recall  f1-score   support\n",
            "\n",
            "         ale       0.74      0.74      0.74        31\n",
            "         des       0.73      0.65      0.69        34\n",
            "         med       0.82      0.78      0.80        41\n",
            "         neu       0.79      0.90      0.84        29\n",
            "         rai       0.58      0.70      0.64        30\n",
            "         sur       0.74      0.64      0.69        36\n",
            "         tri       0.82      0.85      0.84        33\n",
            "\n",
            "    accuracy                           0.75       234\n",
            "   macro avg       0.75      0.75      0.75       234\n",
            "weighted avg       0.75      0.75      0.75       234\n",
            "\n",
            "----accuracy score 74.78632478632478 ----\n"
          ],
          "name": "stdout"
        },
        {
          "output_type": "display_data",
          "data": {
            "image/png": "[encoded data removed]",
            "text/plain": [
              "<Figure size 432x288 with 2 Axes>"
            ]
          },
          "metadata": {
            "tags": [],
            "needs_background": "light"
          }
        }
      ]
    }
  ]
}