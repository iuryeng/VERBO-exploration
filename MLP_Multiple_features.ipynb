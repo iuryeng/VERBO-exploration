{
  "nbformat": 4,
  "nbformat_minor": 0,
  "metadata": {
    "colab": {
      "name": "MLP_Multiple_features",
      "provenance": [],
      "collapsed_sections": []
    },
    "kernelspec": {
      "display_name": "Python 3",
      "name": "python3"
    },
    "language_info": {
      "name": "python"
    }
  },
  "cells": [
    {
      "cell_type": "code",
      "metadata": {
        "id": "6KSdcpSzJb7C"
      },
      "source": [
        "#!pip install librosa \n",
        "#!pip install soundfile \n",
        "#!pip install numpy\n",
        "#!pip install sklearn \n",
        "#!pip install pyaudio\n",
        "#!pip install matplotlib"
      ],
      "execution_count": null,
      "outputs": []
    },
    {
      "cell_type": "code",
      "metadata": {
        "id": "AOUx9bno3svY"
      },
      "source": [
        "import os\n",
        "import pandas as pd\n",
        "import soundfile as sf \n",
        "import numpy as np\n",
        "import librosa\n",
        "from sklearn.model_selection import train_test_split\n",
        "from sklearn.neural_network import MLPClassifier \n",
        "from sklearn.metrics import accuracy_score\n",
        "import matplotlib.pyplot as plt"
      ],
      "execution_count": null,
      "outputs": []
    },
    {
      "cell_type": "code",
      "metadata": {
        "id": "kIr_7XERH_Lv",
        "colab": {
          "base_uri": "https://localhost:8080/"
        },
        "outputId": "4f9cee65-a63e-4c30-e5ec-efc0e8f8f088"
      },
      "source": [
        "# monte o drive para acessar os dados do VERBO \n",
        "from google.colab import drive\n",
        "drive.mount(\"/content/drive\")\n"
      ],
      "execution_count": null,
      "outputs": [
        {
          "output_type": "stream",
          "text": [
            "Mounted at /content/drive\n"
          ],
          "name": "stdout"
        }
      ]
    },
    {
      "cell_type": "code",
      "metadata": {
        "colab": {
          "base_uri": "https://localhost:8080/",
          "height": 34
        },
        "id": "s1i2zEo93c8g",
        "outputId": "c3796afc-bdc5-491f-950d-52b0bd3d8588"
      },
      "source": [
        "VERBO = '/content/drive/MyDrive/VERBO_OK/'\n",
        "dir_list = os.listdir(VERBO)\n",
        "dir_list.pop(3)"
      ],
      "execution_count": null,
      "outputs": [
        {
          "output_type": "execute_result",
          "data": {
            "application/vnd.google.colaboratory.intrinsic+json": {
              "type": "string"
            },
            "text/plain": [
              "'features'"
            ]
          },
          "metadata": {},
          "execution_count": 4
        }
      ]
    },
    {
      "cell_type": "code",
      "metadata": {
        "colab": {
          "base_uri": "https://localhost:8080/",
          "height": 675
        },
        "id": "XAXoEwfe4bbM",
        "outputId": "f422430e-f029-4810-e8d8-2e5901052ed9"
      },
      "source": [
        "emotion = []\n",
        "gender = []\n",
        "path = []\n",
        "for i in dir_list:\n",
        "    fname = os.listdir(VERBO + i)\n",
        "    for f in fname:\n",
        "        part = f.split('.')[0].split('-')\n",
        "        emotion.append(part[0])\n",
        "        temp = part[1]\n",
        "        if temp == \"f1\" or temp =='f2' or temp == 'f3' or temp == 'f4' or temp == 'f5' or temp == 'f6':\n",
        "            temp = \"feminino\"\n",
        "        else:\n",
        "            temp = \"masculino\"\n",
        "        gender.append(temp)\n",
        "        path.append(VERBO + i + '/' + f)\n",
        "\n",
        "        \n",
        "VERBO_df = pd.DataFrame(emotion)\n",
        "VERBO_df = VERBO_df.replace({'neu':'neutro', 'des':'desgosto', 'ale':'alegre', 'tri':'triste', 'rai':'raiva', 'med':'medo', 'sur':'surpresa'})\n",
        "VERBO_df = pd.concat([pd.DataFrame(gender),VERBO_df],axis=1)\n",
        "VERBO_df.columns = ['gender','emotion']\n",
        "VERBO_df['labels'] = VERBO_df.gender + '_' + VERBO_df.emotion\n",
        "VERBO_df['source'] = 'VERBO'  \n",
        "VERBO_df = pd.concat([VERBO_df,pd.DataFrame(path, columns = ['path'])],axis=1)\n",
        "#VERBO_df = VERBO_df.drop(['gender', 'emotion'], axis=1)\n",
        "#VERBO_df.labels.value_counts()\n",
        "VERBO_df.head(20)"
      ],
      "execution_count": null,
      "outputs": [
        {
          "output_type": "execute_result",
          "data": {
            "text/html": [
              "<div>\n",
              "<style scoped>\n",
              "    .dataframe tbody tr th:only-of-type {\n",
              "        vertical-align: middle;\n",
              "    }\n",
              "\n",
              "    .dataframe tbody tr th {\n",
              "        vertical-align: top;\n",
              "    }\n",
              "\n",
              "    .dataframe thead th {\n",
              "        text-align: right;\n",
              "    }\n",
              "</style>\n",
              "<table border=\"1\" class=\"dataframe\">\n",
              "  <thead>\n",
              "    <tr style=\"text-align: right;\">\n",
              "      <th></th>\n",
              "      <th>gender</th>\n",
              "      <th>emotion</th>\n",
              "      <th>labels</th>\n",
              "      <th>source</th>\n",
              "      <th>path</th>\n",
              "    </tr>\n",
              "  </thead>\n",
              "  <tbody>\n",
              "    <tr>\n",
              "      <th>0</th>\n",
              "      <td>feminino</td>\n",
              "      <td>desgosto</td>\n",
              "      <td>feminino_desgosto</td>\n",
              "      <td>VERBO</td>\n",
              "      <td>/content/drive/MyDrive/VERBO_OK/f3/des-f3-l1.wav</td>\n",
              "    </tr>\n",
              "    <tr>\n",
              "      <th>1</th>\n",
              "      <td>feminino</td>\n",
              "      <td>medo</td>\n",
              "      <td>feminino_medo</td>\n",
              "      <td>VERBO</td>\n",
              "      <td>/content/drive/MyDrive/VERBO_OK/f3/med-f3-l1.wav</td>\n",
              "    </tr>\n",
              "    <tr>\n",
              "      <th>2</th>\n",
              "      <td>feminino</td>\n",
              "      <td>neutro</td>\n",
              "      <td>feminino_neutro</td>\n",
              "      <td>VERBO</td>\n",
              "      <td>/content/drive/MyDrive/VERBO_OK/f3/neu-f3-ns4.wav</td>\n",
              "    </tr>\n",
              "    <tr>\n",
              "      <th>3</th>\n",
              "      <td>feminino</td>\n",
              "      <td>alegre</td>\n",
              "      <td>feminino_alegre</td>\n",
              "      <td>VERBO</td>\n",
              "      <td>/content/drive/MyDrive/VERBO_OK/f3/ale-f3-ns2.wav</td>\n",
              "    </tr>\n",
              "    <tr>\n",
              "      <th>4</th>\n",
              "      <td>feminino</td>\n",
              "      <td>alegre</td>\n",
              "      <td>feminino_alegre</td>\n",
              "      <td>VERBO</td>\n",
              "      <td>/content/drive/MyDrive/VERBO_OK/f3/ale-f3-ns1.wav</td>\n",
              "    </tr>\n",
              "    <tr>\n",
              "      <th>5</th>\n",
              "      <td>feminino</td>\n",
              "      <td>alegre</td>\n",
              "      <td>feminino_alegre</td>\n",
              "      <td>VERBO</td>\n",
              "      <td>/content/drive/MyDrive/VERBO_OK/f3/ale-f3-s2.wav</td>\n",
              "    </tr>\n",
              "    <tr>\n",
              "      <th>6</th>\n",
              "      <td>feminino</td>\n",
              "      <td>medo</td>\n",
              "      <td>feminino_medo</td>\n",
              "      <td>VERBO</td>\n",
              "      <td>/content/drive/MyDrive/VERBO_OK/f3/med-f3-s2.wav</td>\n",
              "    </tr>\n",
              "    <tr>\n",
              "      <th>7</th>\n",
              "      <td>feminino</td>\n",
              "      <td>medo</td>\n",
              "      <td>feminino_medo</td>\n",
              "      <td>VERBO</td>\n",
              "      <td>/content/drive/MyDrive/VERBO_OK/f3/med-f3-s1.wav</td>\n",
              "    </tr>\n",
              "    <tr>\n",
              "      <th>8</th>\n",
              "      <td>feminino</td>\n",
              "      <td>desgosto</td>\n",
              "      <td>feminino_desgosto</td>\n",
              "      <td>VERBO</td>\n",
              "      <td>/content/drive/MyDrive/VERBO_OK/f3/des-f3-s1.wav</td>\n",
              "    </tr>\n",
              "    <tr>\n",
              "      <th>9</th>\n",
              "      <td>feminino</td>\n",
              "      <td>neutro</td>\n",
              "      <td>feminino_neutro</td>\n",
              "      <td>VERBO</td>\n",
              "      <td>/content/drive/MyDrive/VERBO_OK/f3/neu-f3-ns3.wav</td>\n",
              "    </tr>\n",
              "    <tr>\n",
              "      <th>10</th>\n",
              "      <td>feminino</td>\n",
              "      <td>alegre</td>\n",
              "      <td>feminino_alegre</td>\n",
              "      <td>VERBO</td>\n",
              "      <td>/content/drive/MyDrive/VERBO_OK/f3/ale-f3-ns3.wav</td>\n",
              "    </tr>\n",
              "    <tr>\n",
              "      <th>11</th>\n",
              "      <td>feminino</td>\n",
              "      <td>neutro</td>\n",
              "      <td>feminino_neutro</td>\n",
              "      <td>VERBO</td>\n",
              "      <td>/content/drive/MyDrive/VERBO_OK/f3/neu-f3-l5.wav</td>\n",
              "    </tr>\n",
              "    <tr>\n",
              "      <th>12</th>\n",
              "      <td>feminino</td>\n",
              "      <td>medo</td>\n",
              "      <td>feminino_medo</td>\n",
              "      <td>VERBO</td>\n",
              "      <td>/content/drive/MyDrive/VERBO_OK/f3/med-f3-l3.wav</td>\n",
              "    </tr>\n",
              "    <tr>\n",
              "      <th>13</th>\n",
              "      <td>feminino</td>\n",
              "      <td>desgosto</td>\n",
              "      <td>feminino_desgosto</td>\n",
              "      <td>VERBO</td>\n",
              "      <td>/content/drive/MyDrive/VERBO_OK/f3/des-f3-ns3.wav</td>\n",
              "    </tr>\n",
              "    <tr>\n",
              "      <th>14</th>\n",
              "      <td>feminino</td>\n",
              "      <td>medo</td>\n",
              "      <td>feminino_medo</td>\n",
              "      <td>VERBO</td>\n",
              "      <td>/content/drive/MyDrive/VERBO_OK/f3/med-f3-l5.wav</td>\n",
              "    </tr>\n",
              "    <tr>\n",
              "      <th>15</th>\n",
              "      <td>feminino</td>\n",
              "      <td>desgosto</td>\n",
              "      <td>feminino_desgosto</td>\n",
              "      <td>VERBO</td>\n",
              "      <td>/content/drive/MyDrive/VERBO_OK/f3/des-f3-ns5.wav</td>\n",
              "    </tr>\n",
              "    <tr>\n",
              "      <th>16</th>\n",
              "      <td>feminino</td>\n",
              "      <td>alegre</td>\n",
              "      <td>feminino_alegre</td>\n",
              "      <td>VERBO</td>\n",
              "      <td>/content/drive/MyDrive/VERBO_OK/f3/ale-f3-ns5.wav</td>\n",
              "    </tr>\n",
              "    <tr>\n",
              "      <th>17</th>\n",
              "      <td>feminino</td>\n",
              "      <td>medo</td>\n",
              "      <td>feminino_medo</td>\n",
              "      <td>VERBO</td>\n",
              "      <td>/content/drive/MyDrive/VERBO_OK/f3/med-f3-l2.wav</td>\n",
              "    </tr>\n",
              "    <tr>\n",
              "      <th>18</th>\n",
              "      <td>feminino</td>\n",
              "      <td>alegre</td>\n",
              "      <td>feminino_alegre</td>\n",
              "      <td>VERBO</td>\n",
              "      <td>/content/drive/MyDrive/VERBO_OK/f3/ale-f3-s1.wav</td>\n",
              "    </tr>\n",
              "    <tr>\n",
              "      <th>19</th>\n",
              "      <td>feminino</td>\n",
              "      <td>desgosto</td>\n",
              "      <td>feminino_desgosto</td>\n",
              "      <td>VERBO</td>\n",
              "      <td>/content/drive/MyDrive/VERBO_OK/f3/des-f3-ns1.wav</td>\n",
              "    </tr>\n",
              "  </tbody>\n",
              "</table>\n",
              "</div>"
            ],
            "text/plain": [
              "      gender  ...                                               path\n",
              "0   feminino  ...   /content/drive/MyDrive/VERBO_OK/f3/des-f3-l1.wav\n",
              "1   feminino  ...   /content/drive/MyDrive/VERBO_OK/f3/med-f3-l1.wav\n",
              "2   feminino  ...  /content/drive/MyDrive/VERBO_OK/f3/neu-f3-ns4.wav\n",
              "3   feminino  ...  /content/drive/MyDrive/VERBO_OK/f3/ale-f3-ns2.wav\n",
              "4   feminino  ...  /content/drive/MyDrive/VERBO_OK/f3/ale-f3-ns1.wav\n",
              "5   feminino  ...   /content/drive/MyDrive/VERBO_OK/f3/ale-f3-s2.wav\n",
              "6   feminino  ...   /content/drive/MyDrive/VERBO_OK/f3/med-f3-s2.wav\n",
              "7   feminino  ...   /content/drive/MyDrive/VERBO_OK/f3/med-f3-s1.wav\n",
              "8   feminino  ...   /content/drive/MyDrive/VERBO_OK/f3/des-f3-s1.wav\n",
              "9   feminino  ...  /content/drive/MyDrive/VERBO_OK/f3/neu-f3-ns3.wav\n",
              "10  feminino  ...  /content/drive/MyDrive/VERBO_OK/f3/ale-f3-ns3.wav\n",
              "11  feminino  ...   /content/drive/MyDrive/VERBO_OK/f3/neu-f3-l5.wav\n",
              "12  feminino  ...   /content/drive/MyDrive/VERBO_OK/f3/med-f3-l3.wav\n",
              "13  feminino  ...  /content/drive/MyDrive/VERBO_OK/f3/des-f3-ns3.wav\n",
              "14  feminino  ...   /content/drive/MyDrive/VERBO_OK/f3/med-f3-l5.wav\n",
              "15  feminino  ...  /content/drive/MyDrive/VERBO_OK/f3/des-f3-ns5.wav\n",
              "16  feminino  ...  /content/drive/MyDrive/VERBO_OK/f3/ale-f3-ns5.wav\n",
              "17  feminino  ...   /content/drive/MyDrive/VERBO_OK/f3/med-f3-l2.wav\n",
              "18  feminino  ...   /content/drive/MyDrive/VERBO_OK/f3/ale-f3-s1.wav\n",
              "19  feminino  ...  /content/drive/MyDrive/VERBO_OK/f3/des-f3-ns1.wav\n",
              "\n",
              "[20 rows x 5 columns]"
            ]
          },
          "metadata": {},
          "execution_count": 5
        }
      ]
    },
    {
      "cell_type": "code",
      "metadata": {
        "id": "LWWMJVKW447P"
      },
      "source": [
        "def audio_features(file_title, mfcc, chroma, mel, zcr):\n",
        "    with sf.SoundFile(file_title) as audio_recording:\n",
        "        audio = audio_recording.read(dtype=\"float32\")\n",
        "        sample_rate = audio_recording.samplerate        \n",
        "        if chroma:\n",
        "            stft=np.abs(librosa.stft(audio))\n",
        "            result=np.array([])\n",
        "        if mfcc:\n",
        "            mfccs=np.mean(librosa.feature.mfcc(y=audio, sr=sample_rate, n_mfcc=40).T, axis=0)\n",
        "            result=np.hstack((result, mfccs))\n",
        "        if chroma:\n",
        "            chroma=np.mean(librosa.feature.chroma_stft(S=stft, sr=sample_rate).T,axis=0)\n",
        "            result=np.hstack((result, chroma))\n",
        "        if mel:\n",
        "            mel=np.mean(librosa.feature.melspectrogram(audio, sr=sample_rate).T,axis=0)\n",
        "            result=np.hstack((result, mel))\n",
        "        if zcr:\n",
        "            ZCR = np.mean(librosa.feature.zero_crossing_rate(y=audio).T, axis=0)\n",
        "            result=np.hstack((result, ZCR))      \n",
        "        return result\n"
      ],
      "execution_count": null,
      "outputs": []
    },
    {
      "cell_type": "code",
      "metadata": {
        "id": "hmI9kCRO4_I-"
      },
      "source": [
        "def loading_audio_data():\n",
        "    x = []\n",
        "    y = []\n",
        "    for file in VERBO_df['path']:        \n",
        "        emotion = file.split('/')[6].split('-')[0]             \n",
        "        feature = audio_features(str(file), mfcc=True, chroma=True, mel=False, zcr=True)\n",
        "        \n",
        "        x.append(feature)   \n",
        "        y.append(emotion)\n",
        "\n",
        "\n",
        "    final_dataset = train_test_split(np.array(x), y, test_size=0.1, random_state=9)\n",
        "    return  final_dataset"
      ],
      "execution_count": null,
      "outputs": []
    },
    {
      "cell_type": "code",
      "metadata": {
        "id": "ZvnRKgbO5DO4"
      },
      "source": [
        "X_train, X_test, y_train, y_test = loading_audio_data()"
      ],
      "execution_count": null,
      "outputs": []
    },
    {
      "cell_type": "code",
      "metadata": {
        "colab": {
          "base_uri": "https://localhost:8080/"
        },
        "id": "KOqnbhxe7XWN",
        "outputId": "e176b0ad-8d59-4bad-ba7a-f9c64bc91707"
      },
      "source": [
        "# shape do traino e do test\n",
        "X_train.shape[0], X_test.shape[0]"
      ],
      "execution_count": null,
      "outputs": [
        {
          "output_type": "execute_result",
          "data": {
            "text/plain": [
              "(1048, 117)"
            ]
          },
          "metadata": {},
          "execution_count": 111
        }
      ]
    },
    {
      "cell_type": "code",
      "metadata": {
        "id": "RQDJVOa87mmL"
      },
      "source": [
        "#MLP Model\n",
        "model = MLPClassifier(alpha= 0.01, batch_size = 256, hidden_layer_sizes=(300,), learning_rate='adaptive', max_iter=400 )"
      ],
      "execution_count": null,
      "outputs": []
    },
    {
      "cell_type": "code",
      "metadata": {
        "colab": {
          "base_uri": "https://localhost:8080/"
        },
        "id": "2zc1JTlI8Q9H",
        "outputId": "3528d7fc-9efa-4927-eea4-d9f4541d426e"
      },
      "source": [
        "model.fit(X_train,y_train)"
      ],
      "execution_count": null,
      "outputs": [
        {
          "output_type": "execute_result",
          "data": {
            "text/plain": [
              "MLPClassifier(activation='relu', alpha=0.01, batch_size=256, beta_1=0.9,\n",
              "              beta_2=0.999, early_stopping=False, epsilon=1e-08,\n",
              "              hidden_layer_sizes=(300,), learning_rate='adaptive',\n",
              "              learning_rate_init=0.001, max_fun=15000, max_iter=400,\n",
              "              momentum=0.9, n_iter_no_change=10, nesterovs_momentum=True,\n",
              "              power_t=0.5, random_state=None, shuffle=True, solver='adam',\n",
              "              tol=0.0001, validation_fraction=0.1, verbose=False,\n",
              "              warm_start=False)"
            ]
          },
          "metadata": {},
          "execution_count": 113
        }
      ]
    },
    {
      "cell_type": "code",
      "metadata": {
        "colab": {
          "base_uri": "https://localhost:8080/"
        },
        "id": "sT2jj_ta8VYN",
        "outputId": "eae47dda-5f66-4150-f84a-8eb9302ba967"
      },
      "source": [
        "y_pred = model.predict(X_test)\n",
        "accuracy = accuracy_score(y_true=y_test, y_pred=y_pred)\n",
        "print(\"A precisão do reconhecedor é: {:.1f}%\".format(accuracy*100))"
      ],
      "execution_count": null,
      "outputs": [
        {
          "output_type": "stream",
          "text": [
            "A precisão do reconhecedor é: 81.2%\n"
          ],
          "name": "stdout"
        }
      ]
    },
    {
      "cell_type": "code",
      "metadata": {
        "colab": {
          "base_uri": "https://localhost:8080/",
          "height": 524
        },
        "id": "FWKm6Ky3xu0I",
        "outputId": "c15b9e2b-3d36-4abb-eb16-02756c5c1563"
      },
      "source": [
        "from sklearn.metrics import classification_report, confusion_matrix,accuracy_score\n",
        "import seaborn as sn\n",
        "\n",
        "print(classification_report(y_test,y_pred))\n",
        "\n",
        "acc = float(accuracy_score(y_test,y_pred))*100\n",
        "print(\"----accuracy score %s ----\" % acc)\n",
        "\n",
        "cm = confusion_matrix(y_test,y_pred)\n",
        "df_cm = pd.DataFrame(cm)\n",
        "sn.heatmap(df_cm, annot=True, fmt='')\n",
        "plt.show()"
      ],
      "execution_count": null,
      "outputs": [
        {
          "output_type": "stream",
          "text": [
            "              precision    recall  f1-score   support\n",
            "\n",
            "         ale       0.91      0.83      0.87        12\n",
            "         des       0.45      0.75      0.56        12\n",
            "         med       0.94      0.89      0.91        18\n",
            "         neu       0.86      0.82      0.84        22\n",
            "         rai       1.00      0.62      0.76        13\n",
            "         sur       0.79      1.00      0.88        15\n",
            "         tri       0.90      0.76      0.83        25\n",
            "\n",
            "    accuracy                           0.81       117\n",
            "   macro avg       0.84      0.81      0.81       117\n",
            "weighted avg       0.85      0.81      0.82       117\n",
            "\n",
            "----accuracy score 81.19658119658119 ----\n"
          ],
          "name": "stdout"
        },
        {
          "output_type": "display_data",
          "data": {
            "image/png": "[encoded data removed]",
            "text/plain": [
              "<Figure size 432x288 with 2 Axes>"
            ]
          },
          "metadata": {
            "needs_background": "light"
          }
        }
      ]
    },
    {
      "cell_type": "code",
      "metadata": {
        "id": "A7BXtzfA-cfE"
      },
      "source": [
        "path_audio_1 = '/content/drive/MyDrive/audio_teste/capitao-bope1-ajuste.wav'\n",
        "path_audio_2 = '/content/drive/MyDrive/audio_teste/tri-m6-q1.wav'\n",
        "path_audio_3 = '/content/drive/MyDrive/audio_teste/tri-m6-s1.wav'\n",
        "path_audio_4 = '/content/drive/MyDrive/audio_teste/caminho_nuvens_ajuste.wav'\n",
        "\n",
        "\n",
        "audio_1 = audio_features(path_audio_1, mfcc=True, chroma=True, mel=False, zcr=True)\n",
        "audio_1  = audio_1.reshape(1,-1)\n",
        "#audio_2 = audio_features(path_audio_2, mfcc=True, chroma=True, mel=True)\n",
        "#audio_2  = audio_2.reshape(1,-1)\n",
        "#audio_3 = audio_features(path_audio_3, mfcc=True, chroma=True, mel=True)\n",
        "#audio_3  = audio_3.reshape(1,-1)\n",
        "#audio_4 = audio_features(path_audio_4, mfcc=True, chroma=True, mel=True)\n",
        "#audio_4  = audio_4.reshape(1,-1)"
      ],
      "execution_count": null,
      "outputs": []
    },
    {
      "cell_type": "code",
      "metadata": {
        "colab": {
          "base_uri": "https://localhost:8080/",
          "height": 328
        },
        "id": "3X3y0_wVv1mt",
        "outputId": "7d6a1a0a-8ad9-419a-845f-bfccfd89701f"
      },
      "source": [
        "new_output = model.predict(audio_1)\n",
        "new_output"
      ],
      "execution_count": null,
      "outputs": [
        {
          "output_type": "error",
          "ename": "ValueError",
          "evalue": "ignored",
          "traceback": [
            "\u001b[0;31m---------------------------------------------------------------------------\u001b[0m",
            "\u001b[0;31mValueError\u001b[0m                                Traceback (most recent call last)",
            "\u001b[0;32m<ipython-input-119-8265377c621f>\u001b[0m in \u001b[0;36m<module>\u001b[0;34m()\u001b[0m\n\u001b[0;32m----> 1\u001b[0;31m \u001b[0mnew_output\u001b[0m \u001b[0;34m=\u001b[0m \u001b[0mmodel\u001b[0m\u001b[0;34m.\u001b[0m\u001b[0mpredict\u001b[0m\u001b[0;34m(\u001b[0m\u001b[0maudio_1\u001b[0m\u001b[0;34m)\u001b[0m\u001b[0;34m\u001b[0m\u001b[0;34m\u001b[0m\u001b[0m\n\u001b[0m\u001b[1;32m      2\u001b[0m \u001b[0mnew_output\u001b[0m\u001b[0;34m\u001b[0m\u001b[0;34m\u001b[0m\u001b[0m\n",
            "\u001b[0;32m/usr/local/lib/python3.7/dist-packages/sklearn/neural_network/_multilayer_perceptron.py\u001b[0m in \u001b[0;36mpredict\u001b[0;34m(self, X)\u001b[0m\n\u001b[1;32m    969\u001b[0m         \"\"\"\n\u001b[1;32m    970\u001b[0m         \u001b[0mcheck_is_fitted\u001b[0m\u001b[0;34m(\u001b[0m\u001b[0mself\u001b[0m\u001b[0;34m)\u001b[0m\u001b[0;34m\u001b[0m\u001b[0;34m\u001b[0m\u001b[0m\n\u001b[0;32m--> 971\u001b[0;31m         \u001b[0my_pred\u001b[0m \u001b[0;34m=\u001b[0m \u001b[0mself\u001b[0m\u001b[0;34m.\u001b[0m\u001b[0m_predict\u001b[0m\u001b[0;34m(\u001b[0m\u001b[0mX\u001b[0m\u001b[0;34m)\u001b[0m\u001b[0;34m\u001b[0m\u001b[0;34m\u001b[0m\u001b[0m\n\u001b[0m\u001b[1;32m    972\u001b[0m \u001b[0;34m\u001b[0m\u001b[0m\n\u001b[1;32m    973\u001b[0m         \u001b[0;32mif\u001b[0m \u001b[0mself\u001b[0m\u001b[0;34m.\u001b[0m\u001b[0mn_outputs_\u001b[0m \u001b[0;34m==\u001b[0m \u001b[0;36m1\u001b[0m\u001b[0;34m:\u001b[0m\u001b[0;34m\u001b[0m\u001b[0;34m\u001b[0m\u001b[0m\n",
            "\u001b[0;32m/usr/local/lib/python3.7/dist-packages/sklearn/neural_network/_multilayer_perceptron.py\u001b[0m in \u001b[0;36m_predict\u001b[0;34m(self, X)\u001b[0m\n\u001b[1;32m    683\u001b[0m                                          layer_units[i + 1])))\n\u001b[1;32m    684\u001b[0m         \u001b[0;31m# forward propagate\u001b[0m\u001b[0;34m\u001b[0m\u001b[0;34m\u001b[0m\u001b[0;34m\u001b[0m\u001b[0m\n\u001b[0;32m--> 685\u001b[0;31m         \u001b[0mself\u001b[0m\u001b[0;34m.\u001b[0m\u001b[0m_forward_pass\u001b[0m\u001b[0;34m(\u001b[0m\u001b[0mactivations\u001b[0m\u001b[0;34m)\u001b[0m\u001b[0;34m\u001b[0m\u001b[0;34m\u001b[0m\u001b[0m\n\u001b[0m\u001b[1;32m    686\u001b[0m         \u001b[0my_pred\u001b[0m \u001b[0;34m=\u001b[0m \u001b[0mactivations\u001b[0m\u001b[0;34m[\u001b[0m\u001b[0;34m-\u001b[0m\u001b[0;36m1\u001b[0m\u001b[0;34m]\u001b[0m\u001b[0;34m\u001b[0m\u001b[0;34m\u001b[0m\u001b[0m\n\u001b[1;32m    687\u001b[0m \u001b[0;34m\u001b[0m\u001b[0m\n",
            "\u001b[0;32m/usr/local/lib/python3.7/dist-packages/sklearn/neural_network/_multilayer_perceptron.py\u001b[0m in \u001b[0;36m_forward_pass\u001b[0;34m(self, activations)\u001b[0m\n\u001b[1;32m    102\u001b[0m         \u001b[0;32mfor\u001b[0m \u001b[0mi\u001b[0m \u001b[0;32min\u001b[0m \u001b[0mrange\u001b[0m\u001b[0;34m(\u001b[0m\u001b[0mself\u001b[0m\u001b[0;34m.\u001b[0m\u001b[0mn_layers_\u001b[0m \u001b[0;34m-\u001b[0m \u001b[0;36m1\u001b[0m\u001b[0;34m)\u001b[0m\u001b[0;34m:\u001b[0m\u001b[0;34m\u001b[0m\u001b[0;34m\u001b[0m\u001b[0m\n\u001b[1;32m    103\u001b[0m             activations[i + 1] = safe_sparse_dot(activations[i],\n\u001b[0;32m--> 104\u001b[0;31m                                                  self.coefs_[i])\n\u001b[0m\u001b[1;32m    105\u001b[0m             \u001b[0mactivations\u001b[0m\u001b[0;34m[\u001b[0m\u001b[0mi\u001b[0m \u001b[0;34m+\u001b[0m \u001b[0;36m1\u001b[0m\u001b[0;34m]\u001b[0m \u001b[0;34m+=\u001b[0m \u001b[0mself\u001b[0m\u001b[0;34m.\u001b[0m\u001b[0mintercepts_\u001b[0m\u001b[0;34m[\u001b[0m\u001b[0mi\u001b[0m\u001b[0;34m]\u001b[0m\u001b[0;34m\u001b[0m\u001b[0;34m\u001b[0m\u001b[0m\n\u001b[1;32m    106\u001b[0m \u001b[0;34m\u001b[0m\u001b[0m\n",
            "\u001b[0;32m/usr/local/lib/python3.7/dist-packages/sklearn/utils/extmath.py\u001b[0m in \u001b[0;36msafe_sparse_dot\u001b[0;34m(a, b, dense_output)\u001b[0m\n\u001b[1;32m    149\u001b[0m             \u001b[0mret\u001b[0m \u001b[0;34m=\u001b[0m \u001b[0mnp\u001b[0m\u001b[0;34m.\u001b[0m\u001b[0mdot\u001b[0m\u001b[0;34m(\u001b[0m\u001b[0ma\u001b[0m\u001b[0;34m,\u001b[0m \u001b[0mb\u001b[0m\u001b[0;34m)\u001b[0m\u001b[0;34m\u001b[0m\u001b[0;34m\u001b[0m\u001b[0m\n\u001b[1;32m    150\u001b[0m     \u001b[0;32melse\u001b[0m\u001b[0;34m:\u001b[0m\u001b[0;34m\u001b[0m\u001b[0;34m\u001b[0m\u001b[0m\n\u001b[0;32m--> 151\u001b[0;31m         \u001b[0mret\u001b[0m \u001b[0;34m=\u001b[0m \u001b[0ma\u001b[0m \u001b[0;34m@\u001b[0m \u001b[0mb\u001b[0m\u001b[0;34m\u001b[0m\u001b[0;34m\u001b[0m\u001b[0m\n\u001b[0m\u001b[1;32m    152\u001b[0m \u001b[0;34m\u001b[0m\u001b[0m\n\u001b[1;32m    153\u001b[0m     if (sparse.issparse(a) and sparse.issparse(b)\n",
            "\u001b[0;31mValueError\u001b[0m: matmul: Input operand 1 has a mismatch in its core dimension 0, with gufunc signature (n?,k),(k,m?)->(n?,m?) (size 53 is different from 181)"
          ]
        }
      ]
    },
    {
      "cell_type": "code",
      "metadata": {
        "id": "ogxsYOrp-cn9",
        "colab": {
          "base_uri": "https://localhost:8080/"
        },
        "outputId": "1c792036-04b5-4932-adff-85b6e15b6d5d"
      },
      "source": [
        "dir_list_coringa = os.listdir('/content/drive/MyDrive/audio_teste/coringa-split/')\n",
        "for x in range(7):\n",
        "  path_audio = '/content/drive/MyDrive/audio_teste/coringa-split/'+dir_list_coringa[x]\n",
        "  audio = audio_features(path_audio, mfcc=True, chroma=True, mel=True)\n",
        "  audio = audio.reshape(1,-1)\n",
        "  predictions = model.predict(audio)\n",
        "  print(predictions)\n",
        " "
      ],
      "execution_count": null,
      "outputs": [
        {
          "output_type": "stream",
          "text": [
            "['tri']\n",
            "['tri']\n",
            "['tri']\n",
            "['tri']\n",
            "['tri']\n",
            "['tri']\n",
            "['tri']\n"
          ],
          "name": "stdout"
        }
      ]
    },
    {
      "cell_type": "code",
      "metadata": {
        "id": "Ct-tsEGG-c3P"
      },
      "source": [
        ""
      ],
      "execution_count": null,
      "outputs": []
    },
    {
      "cell_type": "code",
      "metadata": {
        "id": "BLV89gRk-dAD"
      },
      "source": [
        ""
      ],
      "execution_count": null,
      "outputs": []
    },
    {
      "cell_type": "code",
      "metadata": {
        "id": "eUBuvkow-dI1"
      },
      "source": [
        ""
      ],
      "execution_count": null,
      "outputs": []
    },
    {
      "cell_type": "code",
      "metadata": {
        "id": "Ns9P02YT-dRZ"
      },
      "source": [
        ""
      ],
      "execution_count": null,
      "outputs": []
    },
    {
      "cell_type": "code",
      "metadata": {
        "id": "5qNu5o_f-daD"
      },
      "source": [
        ""
      ],
      "execution_count": null,
      "outputs": []
    },
    {
      "cell_type": "code",
      "metadata": {
        "colab": {
          "base_uri": "https://localhost:8080/"
        },
        "id": "Gyds1EMbLMVd",
        "outputId": "1b7a2fcb-c9b8-48fd-e05f-e101f11033fd"
      },
      "source": [
        "# Arvore de decisao\n",
        "from sklearn.tree import DecisionTreeClassifier\n",
        "decision_tree = DecisionTreeClassifier()\n",
        "decision_tree.fit(X_train, y_train)"
      ],
      "execution_count": null,
      "outputs": [
        {
          "output_type": "execute_result",
          "data": {
            "text/plain": [
              "DecisionTreeClassifier(ccp_alpha=0.0, class_weight=None, criterion='gini',\n",
              "                       max_depth=None, max_features=None, max_leaf_nodes=None,\n",
              "                       min_impurity_decrease=0.0, min_impurity_split=None,\n",
              "                       min_samples_leaf=1, min_samples_split=2,\n",
              "                       min_weight_fraction_leaf=0.0, presort='deprecated',\n",
              "                       random_state=None, splitter='best')"
            ]
          },
          "metadata": {},
          "execution_count": 82
        }
      ]
    },
    {
      "cell_type": "code",
      "metadata": {
        "colab": {
          "base_uri": "https://localhost:8080/"
        },
        "id": "bydRPupT9nl5",
        "outputId": "2dd1a1d6-0e23-4ecd-8bf3-69926c9a7b5f"
      },
      "source": [
        "y_pred = decision_tree.predict(X_test)\n",
        "accuracy = accuracy_score(y_true=y_test, y_pred=y_pred)\n",
        "print(\"A precisão do reconhecedor é: {:.1f}%\".format(accuracy*100))"
      ],
      "execution_count": null,
      "outputs": [
        {
          "output_type": "stream",
          "text": [
            "A precisão do reconhecedor é: 55.6%\n"
          ],
          "name": "stdout"
        }
      ]
    },
    {
      "cell_type": "code",
      "metadata": {
        "colab": {
          "base_uri": "https://localhost:8080/"
        },
        "id": "g4hDzYkwMaN4",
        "outputId": "2c0549cd-843c-455b-f79e-86e990be0144"
      },
      "source": [
        "\n",
        "print(classification_report(y_test,y_pred))"
      ],
      "execution_count": null,
      "outputs": [
        {
          "output_type": "stream",
          "text": [
            "              precision    recall  f1-score   support\n",
            "\n",
            "         ale       0.36      0.42      0.38        12\n",
            "         des       0.50      0.58      0.54        12\n",
            "         med       0.56      0.56      0.56        18\n",
            "         neu       0.58      0.50      0.54        22\n",
            "         rai       0.45      0.38      0.42        13\n",
            "         sur       0.71      0.67      0.69        15\n",
            "         tri       0.63      0.68      0.65        25\n",
            "\n",
            "    accuracy                           0.56       117\n",
            "   macro avg       0.54      0.54      0.54       117\n",
            "weighted avg       0.56      0.56      0.56       117\n",
            "\n"
          ],
          "name": "stdout"
        }
      ]
    },
    {
      "cell_type": "code",
      "metadata": {
        "colab": {
          "base_uri": "https://localhost:8080/",
          "height": 166
        },
        "id": "SLAFyRj7MiIT",
        "outputId": "258fedf5-1e70-4329-d38d-f05aa14a08d0"
      },
      "source": [
        "plot_confusion_matrix(decision_tree, X_test, y_test)  "
      ],
      "execution_count": null,
      "outputs": [
        {
          "output_type": "error",
          "ename": "NameError",
          "evalue": "ignored",
          "traceback": [
            "\u001b[0;31m---------------------------------------------------------------------------\u001b[0m",
            "\u001b[0;31mNameError\u001b[0m                                 Traceback (most recent call last)",
            "\u001b[0;32m<ipython-input-85-7c55832fea97>\u001b[0m in \u001b[0;36m<module>\u001b[0;34m()\u001b[0m\n\u001b[0;32m----> 1\u001b[0;31m \u001b[0mplot_confusion_matrix\u001b[0m\u001b[0;34m(\u001b[0m\u001b[0mdecision_tree\u001b[0m\u001b[0;34m,\u001b[0m \u001b[0mX_test\u001b[0m\u001b[0;34m,\u001b[0m \u001b[0my_test\u001b[0m\u001b[0;34m)\u001b[0m\u001b[0;34m\u001b[0m\u001b[0;34m\u001b[0m\u001b[0m\n\u001b[0m",
            "\u001b[0;31mNameError\u001b[0m: name 'plot_confusion_matrix' is not defined"
          ]
        }
      ]
    }
  ]
}